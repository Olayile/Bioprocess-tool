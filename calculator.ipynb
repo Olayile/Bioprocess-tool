{
 "metadata": {
  "language_info": {
   "codemirror_mode": {
    "name": "ipython",
    "version": 3
   },
   "file_extension": ".py",
   "mimetype": "text/x-python",
   "name": "python",
   "nbconvert_exporter": "python",
   "pygments_lexer": "ipython3",
   "version": "3.7.4-final"
  },
  "orig_nbformat": 2,
  "kernelspec": {
   "name": "python3",
   "display_name": "Python 3",
   "language": "python"
  }
 },
 "nbformat": 4,
 "nbformat_minor": 2,
 "cells": [
  {
   "cell_type": "code",
   "execution_count": 5,
   "metadata": {},
   "outputs": [
    {
     "output_type": "execute_result",
     "data": {
      "text/plain": [
       "3.75"
      ]
     },
     "metadata": {},
     "execution_count": 5
    }
   ],
   "source": [
    "x= (25/1000)\n",
    "x*150"
   ]
  },
  {
   "cell_type": "code",
   "execution_count": 1,
   "metadata": {},
   "outputs": [],
   "source": [
    "def col(variable):\n",
    "    variable = 1\n",
    "    print(variable)"
   ]
  },
  {
   "cell_type": "code",
   "execution_count": 4,
   "metadata": {},
   "outputs": [
    {
     "output_type": "stream",
     "name": "stdout",
     "text": [
      "times\n"
     ]
    }
   ],
   "source": [
    "col('times')"
   ]
  },
  {
   "cell_type": "code",
   "execution_count": 5,
   "metadata": {},
   "outputs": [
    {
     "output_type": "error",
     "ename": "NameError",
     "evalue": "name 'times' is not defined",
     "traceback": [
      "\u001b[0;31m---------------------------------------------------------------------------\u001b[0m",
      "\u001b[0;31mNameError\u001b[0m                                 Traceback (most recent call last)",
      "\u001b[0;32m<ipython-input-5-1150c6359052>\u001b[0m in \u001b[0;36m<module>\u001b[0;34m\u001b[0m\n\u001b[0;32m----> 1\u001b[0;31m \u001b[0mtimes\u001b[0m\u001b[0;34m\u001b[0m\u001b[0;34m\u001b[0m\u001b[0m\n\u001b[0m",
      "\u001b[0;31mNameError\u001b[0m: name 'times' is not defined"
     ]
    }
   ],
   "source": [
    "times"
   ]
  },
  {
   "cell_type": "code",
   "execution_count": null,
   "metadata": {},
   "outputs": [],
   "source": [
    "class Person:\n",
    "    name = 'Adam'\n",
    "    \n",
    "p = Person()\n",
    "\n",
    "# setting attribute name to John\n",
    "setattr(p, 'name', 'John')\n",
    "print('Name is:', p.name)\n",
    "\n",
    "# setting an attribute not present in Person\n",
    "setattr(p, 'age', 23)\n",
    "print('Age is:', p.age)"
   ]
  },
  {
   "cell_type": "code",
   "execution_count": 17,
   "metadata": {},
   "outputs": [
    {
     "output_type": "error",
     "ename": "NameError",
     "evalue": "name 'D' is not defined",
     "traceback": [
      "\u001b[0;31m---------------------------------------------------------------------------\u001b[0m",
      "\u001b[0;31mNameError\u001b[0m                                 Traceback (most recent call last)",
      "\u001b[0;32m<ipython-input-17-5a2fd1c04969>\u001b[0m in \u001b[0;36m<module>\u001b[0;34m\u001b[0m\n\u001b[1;32m     15\u001b[0m \u001b[0mkdp\u001b[0m \u001b[0;34m=\u001b[0m \u001b[0mParameter\u001b[0m\u001b[0;34m(\u001b[0m\u001b[0;34m'kdp, 0.1'\u001b[0m\u001b[0;34m)\u001b[0m\u001b[0;34m\u001b[0m\u001b[0;34m\u001b[0m\u001b[0m\n\u001b[1;32m     16\u001b[0m \u001b[0;34m\u001b[0m\u001b[0m\n\u001b[0;32m---> 17\u001b[0;31m \u001b[0mmodel_dict\u001b[0m \u001b[0;34m=\u001b[0m \u001b[0;34m{\u001b[0m\u001b[0mD\u001b[0m\u001b[0;34m(\u001b[0m\u001b[0mx\u001b[0m\u001b[0;34m,\u001b[0m \u001b[0mt\u001b[0m\u001b[0;34m)\u001b[0m\u001b[0;34m:\u001b[0m \u001b[0mmu\u001b[0m\u001b[0;34m*\u001b[0m\u001b[0mCx\u001b[0m \u001b[0;34m-\u001b[0m \u001b[0mkd\u001b[0m\u001b[0;34m*\u001b[0m\u001b[0mCx\u001b[0m\u001b[0;34m,\u001b[0m \u001b[0mD\u001b[0m\u001b[0;34m(\u001b[0m\u001b[0ms\u001b[0m\u001b[0;34m,\u001b[0m \u001b[0mt\u001b[0m\u001b[0;34m)\u001b[0m\u001b[0;34m:\u001b[0m \u001b[0;34m-\u001b[0m\u001b[0mmu\u001b[0m\u001b[0;34m*\u001b[0m\u001b[0mCx\u001b[0m\u001b[0;34m/\u001b[0m\u001b[0mYxp\u001b[0m \u001b[0;34m+\u001b[0m \u001b[0mmu\u001b[0m\u001b[0;34m*\u001b[0m\u001b[0mCx\u001b[0m\u001b[0;34m/\u001b[0m\u001b[0mYps\u001b[0m \u001b[0;34m+\u001b[0m \u001b[0mrms\u001b[0m\u001b[0;34m,\u001b[0m \u001b[0mD\u001b[0m\u001b[0;34m(\u001b[0m\u001b[0mp\u001b[0m\u001b[0;34m,\u001b[0m \u001b[0mt\u001b[0m\u001b[0;34m)\u001b[0m\u001b[0;34m:\u001b[0m \u001b[0malpha\u001b[0m\u001b[0;34m*\u001b[0m\u001b[0mmu\u001b[0m\u001b[0;34m*\u001b[0m\u001b[0mCx\u001b[0m \u001b[0;34m+\u001b[0m \u001b[0mbeta\u001b[0m\u001b[0;34m*\u001b[0m\u001b[0mCx\u001b[0m \u001b[0;34m-\u001b[0m \u001b[0mkdp\u001b[0m \u001b[0;34m*\u001b[0m \u001b[0mCp\u001b[0m\u001b[0;34m,\u001b[0m\u001b[0;34m}\u001b[0m\u001b[0;34m\u001b[0m\u001b[0;34m\u001b[0m\u001b[0m\n\u001b[0m\u001b[1;32m     18\u001b[0m \u001b[0;34m\u001b[0m\u001b[0m\n\u001b[1;32m     19\u001b[0m \u001b[0mode_model\u001b[0m \u001b[0;34m=\u001b[0m \u001b[0mODEModel\u001b[0m\u001b[0;34m(\u001b[0m\u001b[0mmodel_dict\u001b[0m\u001b[0;34m,\u001b[0m \u001b[0minitial\u001b[0m\u001b[0;34m=\u001b[0m\u001b[0;34m{\u001b[0m\u001b[0mt\u001b[0m\u001b[0;34m:\u001b[0m \u001b[0;36m0.0\u001b[0m\u001b[0;34m,\u001b[0m \u001b[0mx\u001b[0m\u001b[0;34m:\u001b[0m \u001b[0;36m0.0\u001b[0m\u001b[0;34m,\u001b[0m \u001b[0ms\u001b[0m\u001b[0;34m:\u001b[0m \u001b[0;36m0.0\u001b[0m\u001b[0;34m,\u001b[0m \u001b[0mp\u001b[0m\u001b[0;34m:\u001b[0m\u001b[0;36m0.0\u001b[0m\u001b[0;34m}\u001b[0m\u001b[0;34m)\u001b[0m\u001b[0;34m\u001b[0m\u001b[0;34m\u001b[0m\u001b[0m\n",
      "\u001b[0;31mNameError\u001b[0m: name 'D' is not defined"
     ]
    }
   ],
   "source": [
    "from symfit import Parameter, variables, Fit\n",
    "import numpy as np\n",
    "import pandas as pd\n",
    "\n",
    "xdata = df['Area']\n",
    "tdata = df['Time (hr)']\n",
    "sdata = df['succinic_acid']\n",
    "pdata = df['succinic_acid']\n",
    "\n",
    "\n",
    "mu, Cx, Yxp, Yps, rms, Cp  = variables('mu, Cx, Yxp, Yps, rms, Cp')\n",
    "kd = Parameter('kd', 0.1)\n",
    "alpha = Parameter('alpha', 0.1)\n",
    "beta = Parameter('beta', 0.1)\n",
    "kdp = Parameter('kdp, 0.1')\n",
    "\n",
    "model_dict = Model({D(x, t): mu*Cx - kd*Cx, D(s, t): -mu*Cx/Yxp + mu*Cx/Yps + rms, D(p, t): alpha*mu*Cx + beta*Cx - kdp * Cp,})\n",
    "\n",
    "ode_model = ODEModel(model_dict, initial={t: 0.0, x: 0.0, s: 0.0, p:0.0})\n",
    "fit = Fit(ode_model, t=tdata, x=xdata, s=sdata, p=pdata)\n",
    "\n",
    "\n"
   ]
  },
  {
   "cell_type": "code",
   "execution_count": 13,
   "metadata": {},
   "outputs": [],
   "source": [
    "df = pd.read_csv('/Users/olayile/Bioprocess-tool/PhD results 37deg A.succinogen 21_12_2020-24_12_2020 - Complete.csv')\n"
   ]
  },
  {
   "cell_type": "code",
   "execution_count": 14,
   "metadata": {},
   "outputs": [
    {
     "output_type": "execute_result",
     "data": {
      "text/plain": [
       "          ID  Time (hr)  Solid Loading     Area  succinic_acid  lactic_acid  \\\n",
       "0     zn_5_0          0              5        0       0.000000        0.000   \n",
       "1     zn_5_6          6              5  1085946       3.335815        0.246   \n",
       "2    zn_5_12         12              5   855741       2.602678        0.237   \n",
       "3    zn_5_18         18              5  2476429       7.764105          NaN   \n",
       "4    zn_5_24         24              5  2586266       8.113904          NaN   \n",
       "5    zn_5_36         36              5  2751715       8.640812          NaN   \n",
       "6    zn_5_42         42              5  2789671       8.761691          NaN   \n",
       "7    zn_5_48         48              5  2808018       8.820121          NaN   \n",
       "8    zn_5_60         60              5  2751526       8.640210          NaN   \n",
       "9    zn_5_66         66              5  2783258       8.741268          NaN   \n",
       "10   zn_5_72         72              5  2696743       8.465742          NaN   \n",
       "11   zn_10_0          0             10        0       0.000000        0.000   \n",
       "12   zn_10_6          6             10  2801249       8.798564        0.253   \n",
       "13  zn_10_12         12             10  2764960       8.682994          NaN   \n",
       "14  zn_10_18         18             10  3402870      10.714554          NaN   \n",
       "15  zn_10_24         24             10  4066755      12.828838          NaN   \n",
       "16  zn_10_36         36             10  3989722      12.583510          NaN   \n",
       "17  zn_10_42         42             10  4064532      12.821758          NaN   \n",
       "18  zn_10_48         48             10  4159921      13.125545          NaN   \n",
       "19  zn_10_60         60             10  4356663      13.752111          NaN   \n",
       "20  zn_10_66         66             10  4369932      13.794369          NaN   \n",
       "21  zn_10_72         72             10  4122756      13.007185          NaN   \n",
       "22   zn_15_0          0             15        0       0.000000        0.000   \n",
       "23   zn_15_6          6             15   116686       0.249000        1.206   \n",
       "24  zn_15_12         12             15  1118926       3.440847        1.299   \n",
       "25  zn_15_18         18             15  1116946       3.434541        1.300   \n",
       "26  zn_15_24         24             15   979124       2.995618        1.299   \n",
       "27  zn_15_36         36             15   993722       3.042108        1.357   \n",
       "28  zn_15_42         42             15   993982       3.042936        1.365   \n",
       "29  zn_15_48         48             15  1166851       3.593475        1.393   \n",
       "30  zn_15_60         60             15  1024971       3.141627        1.423   \n",
       "31  zn_15_66         66             15  1159960       3.571529        1.390   \n",
       "32  zn_15_72         72             15  1025386       3.142949        1.416   \n",
       "33   zn_mg_0          0             10        0       0.000000        0.000   \n",
       "34   zn_mg_6          6             10  1059740       3.252357        1.476   \n",
       "35  zn_mg_12         12             10  1084562       3.331408        1.550   \n",
       "36  zn_mg_18         18             10  1062568       3.261363        1.546   \n",
       "37  zn_mg_24         24             10  1070796       3.287567        1.565   \n",
       "38  zn_mg_36         36             10  1083416       3.327758        1.612   \n",
       "39  zn_mg_42         42             10  1082832       3.325898        1.624   \n",
       "40  zn_mg_48         48             10  1108153       3.406538        1.657   \n",
       "41  zn_mg_60         60             10  1091460       3.353376        1.644   \n",
       "42  zn_mg_66         66             10  1070227       3.285755        1.627   \n",
       "43  zn_mg_72         72             10  1025386       3.142949        1.655   \n",
       "44   zn_mg_0          0             10        0       0.000000        0.000   \n",
       "45      xy_6          6             10  1339101       4.142041        0.155   \n",
       "46     xy_12         12             10  1615656       5.022790        0.612   \n",
       "47     xy_18         18             10  2044846       6.389637        0.556   \n",
       "48     xy_24         24             10  2031912       6.348446        0.549   \n",
       "49     xy_36         36             10  2310798       7.236618        0.597   \n",
       "50     xy_42         42             10  2245199       7.027704        0.618   \n",
       "51     xy_48         48             10  2068737       6.465723        0.636   \n",
       "52     xy_60         60             10  1753463       5.461666        0.692   \n",
       "53     xy_66         66             10  1531846       4.755879        0.753   \n",
       "54     xy_72         72             10   892775       2.720621        0.758   \n",
       "\n",
       "    formic_acid  acetic_acid  malic_acid  citric_acid  \n",
       "0         0.000        0.000    0.000000          NaN  \n",
       "1         0.270        1.173    0.407120          NaN  \n",
       "2         0.279        1.172    0.429311          NaN  \n",
       "3         0.271        1.170    0.406348          NaN  \n",
       "4         0.269        1.153    0.408973          NaN  \n",
       "5         0.299        1.192    0.424266          NaN  \n",
       "6         0.297        1.183    0.412398          NaN  \n",
       "7         0.306        1.195    0.417058          NaN  \n",
       "8         0.288        1.161    0.411270          NaN  \n",
       "9         0.295        1.175    0.412315          NaN  \n",
       "10        0.301        1.186    0.418833          NaN  \n",
       "11        0.000        0.000    0.000000          NaN  \n",
       "12        0.436        1.363    0.313103          NaN  \n",
       "13        0.581        1.450    0.413977          NaN  \n",
       "14        0.598        1.456    0.409581          NaN  \n",
       "15        0.598        1.445    0.397388          NaN  \n",
       "16        0.630        1.472    0.413693          NaN  \n",
       "17        0.608        1.477    0.417788          NaN  \n",
       "18        0.628        1.472    0.403773          NaN  \n",
       "19        0.588        1.465    0.409816          NaN  \n",
       "20        0.591        1.448    0.391157          NaN  \n",
       "21        0.590        1.466    0.389942          NaN  \n",
       "22        0.000        0.000    0.000000     0.000000  \n",
       "23        0.689        1.642    0.441188          NaN  \n",
       "24        0.682        1.635    0.373619          NaN  \n",
       "25        0.647        1.638         NaN     1.884405  \n",
       "26        0.609        1.636         NaN     1.920643  \n",
       "27        0.641        1.639         NaN     1.734387  \n",
       "28        0.634        1.637         NaN     1.875111  \n",
       "29        0.612        1.644         NaN     2.303860  \n",
       "30        0.605        1.632         NaN     2.281959  \n",
       "31        0.630        1.620         NaN     2.214960  \n",
       "32        0.593        1.632         NaN          NaN  \n",
       "33        0.000        0.000    0.000000     0.000000  \n",
       "34        0.516        1.459         NaN     2.395667  \n",
       "35        0.382        1.359         NaN     2.634168  \n",
       "36        0.389        1.363         NaN     2.026005  \n",
       "37        0.394        1.374         NaN     1.147322  \n",
       "38        0.392        1.369    0.176351     1.137043  \n",
       "39        0.390        1.369    0.149441     1.278967  \n",
       "40        0.393        1.392    0.144480     1.436876  \n",
       "41        0.386        1.378    0.201652     1.333476  \n",
       "42        0.381        1.350    0.148367     1.331486  \n",
       "43        0.387        1.380    0.143282     1.342932  \n",
       "44        0.000        0.000    0.000000          NaN  \n",
       "45          NaN        6.714    0.248274          NaN  \n",
       "46          NaN        1.988    0.199433          NaN  \n",
       "47          NaN        1.155    0.186866          NaN  \n",
       "48          NaN        1.075    0.188944          NaN  \n",
       "49          NaN        1.004    0.177831          NaN  \n",
       "50          NaN        1.007    0.198843          NaN  \n",
       "51          NaN        1.015    0.191909          NaN  \n",
       "52          NaN        1.066    0.188126          NaN  \n",
       "53          NaN        1.393    0.194629          NaN  \n",
       "54          NaN        1.025    0.170041          NaN  "
      ],
      "text/html": "<div>\n<style scoped>\n    .dataframe tbody tr th:only-of-type {\n        vertical-align: middle;\n    }\n\n    .dataframe tbody tr th {\n        vertical-align: top;\n    }\n\n    .dataframe thead th {\n        text-align: right;\n    }\n</style>\n<table border=\"1\" class=\"dataframe\">\n  <thead>\n    <tr style=\"text-align: right;\">\n      <th></th>\n      <th>ID</th>\n      <th>Time (hr)</th>\n      <th>Solid Loading</th>\n      <th>Area</th>\n      <th>succinic_acid</th>\n      <th>lactic_acid</th>\n      <th>formic_acid</th>\n      <th>acetic_acid</th>\n      <th>malic_acid</th>\n      <th>citric_acid</th>\n    </tr>\n  </thead>\n  <tbody>\n    <tr>\n      <th>0</th>\n      <td>zn_5_0</td>\n      <td>0</td>\n      <td>5</td>\n      <td>0</td>\n      <td>0.000000</td>\n      <td>0.000</td>\n      <td>0.000</td>\n      <td>0.000</td>\n      <td>0.000000</td>\n      <td>NaN</td>\n    </tr>\n    <tr>\n      <th>1</th>\n      <td>zn_5_6</td>\n      <td>6</td>\n      <td>5</td>\n      <td>1085946</td>\n      <td>3.335815</td>\n      <td>0.246</td>\n      <td>0.270</td>\n      <td>1.173</td>\n      <td>0.407120</td>\n      <td>NaN</td>\n    </tr>\n    <tr>\n      <th>2</th>\n      <td>zn_5_12</td>\n      <td>12</td>\n      <td>5</td>\n      <td>855741</td>\n      <td>2.602678</td>\n      <td>0.237</td>\n      <td>0.279</td>\n      <td>1.172</td>\n      <td>0.429311</td>\n      <td>NaN</td>\n    </tr>\n    <tr>\n      <th>3</th>\n      <td>zn_5_18</td>\n      <td>18</td>\n      <td>5</td>\n      <td>2476429</td>\n      <td>7.764105</td>\n      <td>NaN</td>\n      <td>0.271</td>\n      <td>1.170</td>\n      <td>0.406348</td>\n      <td>NaN</td>\n    </tr>\n    <tr>\n      <th>4</th>\n      <td>zn_5_24</td>\n      <td>24</td>\n      <td>5</td>\n      <td>2586266</td>\n      <td>8.113904</td>\n      <td>NaN</td>\n      <td>0.269</td>\n      <td>1.153</td>\n      <td>0.408973</td>\n      <td>NaN</td>\n    </tr>\n    <tr>\n      <th>5</th>\n      <td>zn_5_36</td>\n      <td>36</td>\n      <td>5</td>\n      <td>2751715</td>\n      <td>8.640812</td>\n      <td>NaN</td>\n      <td>0.299</td>\n      <td>1.192</td>\n      <td>0.424266</td>\n      <td>NaN</td>\n    </tr>\n    <tr>\n      <th>6</th>\n      <td>zn_5_42</td>\n      <td>42</td>\n      <td>5</td>\n      <td>2789671</td>\n      <td>8.761691</td>\n      <td>NaN</td>\n      <td>0.297</td>\n      <td>1.183</td>\n      <td>0.412398</td>\n      <td>NaN</td>\n    </tr>\n    <tr>\n      <th>7</th>\n      <td>zn_5_48</td>\n      <td>48</td>\n      <td>5</td>\n      <td>2808018</td>\n      <td>8.820121</td>\n      <td>NaN</td>\n      <td>0.306</td>\n      <td>1.195</td>\n      <td>0.417058</td>\n      <td>NaN</td>\n    </tr>\n    <tr>\n      <th>8</th>\n      <td>zn_5_60</td>\n      <td>60</td>\n      <td>5</td>\n      <td>2751526</td>\n      <td>8.640210</td>\n      <td>NaN</td>\n      <td>0.288</td>\n      <td>1.161</td>\n      <td>0.411270</td>\n      <td>NaN</td>\n    </tr>\n    <tr>\n      <th>9</th>\n      <td>zn_5_66</td>\n      <td>66</td>\n      <td>5</td>\n      <td>2783258</td>\n      <td>8.741268</td>\n      <td>NaN</td>\n      <td>0.295</td>\n      <td>1.175</td>\n      <td>0.412315</td>\n      <td>NaN</td>\n    </tr>\n    <tr>\n      <th>10</th>\n      <td>zn_5_72</td>\n      <td>72</td>\n      <td>5</td>\n      <td>2696743</td>\n      <td>8.465742</td>\n      <td>NaN</td>\n      <td>0.301</td>\n      <td>1.186</td>\n      <td>0.418833</td>\n      <td>NaN</td>\n    </tr>\n    <tr>\n      <th>11</th>\n      <td>zn_10_0</td>\n      <td>0</td>\n      <td>10</td>\n      <td>0</td>\n      <td>0.000000</td>\n      <td>0.000</td>\n      <td>0.000</td>\n      <td>0.000</td>\n      <td>0.000000</td>\n      <td>NaN</td>\n    </tr>\n    <tr>\n      <th>12</th>\n      <td>zn_10_6</td>\n      <td>6</td>\n      <td>10</td>\n      <td>2801249</td>\n      <td>8.798564</td>\n      <td>0.253</td>\n      <td>0.436</td>\n      <td>1.363</td>\n      <td>0.313103</td>\n      <td>NaN</td>\n    </tr>\n    <tr>\n      <th>13</th>\n      <td>zn_10_12</td>\n      <td>12</td>\n      <td>10</td>\n      <td>2764960</td>\n      <td>8.682994</td>\n      <td>NaN</td>\n      <td>0.581</td>\n      <td>1.450</td>\n      <td>0.413977</td>\n      <td>NaN</td>\n    </tr>\n    <tr>\n      <th>14</th>\n      <td>zn_10_18</td>\n      <td>18</td>\n      <td>10</td>\n      <td>3402870</td>\n      <td>10.714554</td>\n      <td>NaN</td>\n      <td>0.598</td>\n      <td>1.456</td>\n      <td>0.409581</td>\n      <td>NaN</td>\n    </tr>\n    <tr>\n      <th>15</th>\n      <td>zn_10_24</td>\n      <td>24</td>\n      <td>10</td>\n      <td>4066755</td>\n      <td>12.828838</td>\n      <td>NaN</td>\n      <td>0.598</td>\n      <td>1.445</td>\n      <td>0.397388</td>\n      <td>NaN</td>\n    </tr>\n    <tr>\n      <th>16</th>\n      <td>zn_10_36</td>\n      <td>36</td>\n      <td>10</td>\n      <td>3989722</td>\n      <td>12.583510</td>\n      <td>NaN</td>\n      <td>0.630</td>\n      <td>1.472</td>\n      <td>0.413693</td>\n      <td>NaN</td>\n    </tr>\n    <tr>\n      <th>17</th>\n      <td>zn_10_42</td>\n      <td>42</td>\n      <td>10</td>\n      <td>4064532</td>\n      <td>12.821758</td>\n      <td>NaN</td>\n      <td>0.608</td>\n      <td>1.477</td>\n      <td>0.417788</td>\n      <td>NaN</td>\n    </tr>\n    <tr>\n      <th>18</th>\n      <td>zn_10_48</td>\n      <td>48</td>\n      <td>10</td>\n      <td>4159921</td>\n      <td>13.125545</td>\n      <td>NaN</td>\n      <td>0.628</td>\n      <td>1.472</td>\n      <td>0.403773</td>\n      <td>NaN</td>\n    </tr>\n    <tr>\n      <th>19</th>\n      <td>zn_10_60</td>\n      <td>60</td>\n      <td>10</td>\n      <td>4356663</td>\n      <td>13.752111</td>\n      <td>NaN</td>\n      <td>0.588</td>\n      <td>1.465</td>\n      <td>0.409816</td>\n      <td>NaN</td>\n    </tr>\n    <tr>\n      <th>20</th>\n      <td>zn_10_66</td>\n      <td>66</td>\n      <td>10</td>\n      <td>4369932</td>\n      <td>13.794369</td>\n      <td>NaN</td>\n      <td>0.591</td>\n      <td>1.448</td>\n      <td>0.391157</td>\n      <td>NaN</td>\n    </tr>\n    <tr>\n      <th>21</th>\n      <td>zn_10_72</td>\n      <td>72</td>\n      <td>10</td>\n      <td>4122756</td>\n      <td>13.007185</td>\n      <td>NaN</td>\n      <td>0.590</td>\n      <td>1.466</td>\n      <td>0.389942</td>\n      <td>NaN</td>\n    </tr>\n    <tr>\n      <th>22</th>\n      <td>zn_15_0</td>\n      <td>0</td>\n      <td>15</td>\n      <td>0</td>\n      <td>0.000000</td>\n      <td>0.000</td>\n      <td>0.000</td>\n      <td>0.000</td>\n      <td>0.000000</td>\n      <td>0.000000</td>\n    </tr>\n    <tr>\n      <th>23</th>\n      <td>zn_15_6</td>\n      <td>6</td>\n      <td>15</td>\n      <td>116686</td>\n      <td>0.249000</td>\n      <td>1.206</td>\n      <td>0.689</td>\n      <td>1.642</td>\n      <td>0.441188</td>\n      <td>NaN</td>\n    </tr>\n    <tr>\n      <th>24</th>\n      <td>zn_15_12</td>\n      <td>12</td>\n      <td>15</td>\n      <td>1118926</td>\n      <td>3.440847</td>\n      <td>1.299</td>\n      <td>0.682</td>\n      <td>1.635</td>\n      <td>0.373619</td>\n      <td>NaN</td>\n    </tr>\n    <tr>\n      <th>25</th>\n      <td>zn_15_18</td>\n      <td>18</td>\n      <td>15</td>\n      <td>1116946</td>\n      <td>3.434541</td>\n      <td>1.300</td>\n      <td>0.647</td>\n      <td>1.638</td>\n      <td>NaN</td>\n      <td>1.884405</td>\n    </tr>\n    <tr>\n      <th>26</th>\n      <td>zn_15_24</td>\n      <td>24</td>\n      <td>15</td>\n      <td>979124</td>\n      <td>2.995618</td>\n      <td>1.299</td>\n      <td>0.609</td>\n      <td>1.636</td>\n      <td>NaN</td>\n      <td>1.920643</td>\n    </tr>\n    <tr>\n      <th>27</th>\n      <td>zn_15_36</td>\n      <td>36</td>\n      <td>15</td>\n      <td>993722</td>\n      <td>3.042108</td>\n      <td>1.357</td>\n      <td>0.641</td>\n      <td>1.639</td>\n      <td>NaN</td>\n      <td>1.734387</td>\n    </tr>\n    <tr>\n      <th>28</th>\n      <td>zn_15_42</td>\n      <td>42</td>\n      <td>15</td>\n      <td>993982</td>\n      <td>3.042936</td>\n      <td>1.365</td>\n      <td>0.634</td>\n      <td>1.637</td>\n      <td>NaN</td>\n      <td>1.875111</td>\n    </tr>\n    <tr>\n      <th>29</th>\n      <td>zn_15_48</td>\n      <td>48</td>\n      <td>15</td>\n      <td>1166851</td>\n      <td>3.593475</td>\n      <td>1.393</td>\n      <td>0.612</td>\n      <td>1.644</td>\n      <td>NaN</td>\n      <td>2.303860</td>\n    </tr>\n    <tr>\n      <th>30</th>\n      <td>zn_15_60</td>\n      <td>60</td>\n      <td>15</td>\n      <td>1024971</td>\n      <td>3.141627</td>\n      <td>1.423</td>\n      <td>0.605</td>\n      <td>1.632</td>\n      <td>NaN</td>\n      <td>2.281959</td>\n    </tr>\n    <tr>\n      <th>31</th>\n      <td>zn_15_66</td>\n      <td>66</td>\n      <td>15</td>\n      <td>1159960</td>\n      <td>3.571529</td>\n      <td>1.390</td>\n      <td>0.630</td>\n      <td>1.620</td>\n      <td>NaN</td>\n      <td>2.214960</td>\n    </tr>\n    <tr>\n      <th>32</th>\n      <td>zn_15_72</td>\n      <td>72</td>\n      <td>15</td>\n      <td>1025386</td>\n      <td>3.142949</td>\n      <td>1.416</td>\n      <td>0.593</td>\n      <td>1.632</td>\n      <td>NaN</td>\n      <td>NaN</td>\n    </tr>\n    <tr>\n      <th>33</th>\n      <td>zn_mg_0</td>\n      <td>0</td>\n      <td>10</td>\n      <td>0</td>\n      <td>0.000000</td>\n      <td>0.000</td>\n      <td>0.000</td>\n      <td>0.000</td>\n      <td>0.000000</td>\n      <td>0.000000</td>\n    </tr>\n    <tr>\n      <th>34</th>\n      <td>zn_mg_6</td>\n      <td>6</td>\n      <td>10</td>\n      <td>1059740</td>\n      <td>3.252357</td>\n      <td>1.476</td>\n      <td>0.516</td>\n      <td>1.459</td>\n      <td>NaN</td>\n      <td>2.395667</td>\n    </tr>\n    <tr>\n      <th>35</th>\n      <td>zn_mg_12</td>\n      <td>12</td>\n      <td>10</td>\n      <td>1084562</td>\n      <td>3.331408</td>\n      <td>1.550</td>\n      <td>0.382</td>\n      <td>1.359</td>\n      <td>NaN</td>\n      <td>2.634168</td>\n    </tr>\n    <tr>\n      <th>36</th>\n      <td>zn_mg_18</td>\n      <td>18</td>\n      <td>10</td>\n      <td>1062568</td>\n      <td>3.261363</td>\n      <td>1.546</td>\n      <td>0.389</td>\n      <td>1.363</td>\n      <td>NaN</td>\n      <td>2.026005</td>\n    </tr>\n    <tr>\n      <th>37</th>\n      <td>zn_mg_24</td>\n      <td>24</td>\n      <td>10</td>\n      <td>1070796</td>\n      <td>3.287567</td>\n      <td>1.565</td>\n      <td>0.394</td>\n      <td>1.374</td>\n      <td>NaN</td>\n      <td>1.147322</td>\n    </tr>\n    <tr>\n      <th>38</th>\n      <td>zn_mg_36</td>\n      <td>36</td>\n      <td>10</td>\n      <td>1083416</td>\n      <td>3.327758</td>\n      <td>1.612</td>\n      <td>0.392</td>\n      <td>1.369</td>\n      <td>0.176351</td>\n      <td>1.137043</td>\n    </tr>\n    <tr>\n      <th>39</th>\n      <td>zn_mg_42</td>\n      <td>42</td>\n      <td>10</td>\n      <td>1082832</td>\n      <td>3.325898</td>\n      <td>1.624</td>\n      <td>0.390</td>\n      <td>1.369</td>\n      <td>0.149441</td>\n      <td>1.278967</td>\n    </tr>\n    <tr>\n      <th>40</th>\n      <td>zn_mg_48</td>\n      <td>48</td>\n      <td>10</td>\n      <td>1108153</td>\n      <td>3.406538</td>\n      <td>1.657</td>\n      <td>0.393</td>\n      <td>1.392</td>\n      <td>0.144480</td>\n      <td>1.436876</td>\n    </tr>\n    <tr>\n      <th>41</th>\n      <td>zn_mg_60</td>\n      <td>60</td>\n      <td>10</td>\n      <td>1091460</td>\n      <td>3.353376</td>\n      <td>1.644</td>\n      <td>0.386</td>\n      <td>1.378</td>\n      <td>0.201652</td>\n      <td>1.333476</td>\n    </tr>\n    <tr>\n      <th>42</th>\n      <td>zn_mg_66</td>\n      <td>66</td>\n      <td>10</td>\n      <td>1070227</td>\n      <td>3.285755</td>\n      <td>1.627</td>\n      <td>0.381</td>\n      <td>1.350</td>\n      <td>0.148367</td>\n      <td>1.331486</td>\n    </tr>\n    <tr>\n      <th>43</th>\n      <td>zn_mg_72</td>\n      <td>72</td>\n      <td>10</td>\n      <td>1025386</td>\n      <td>3.142949</td>\n      <td>1.655</td>\n      <td>0.387</td>\n      <td>1.380</td>\n      <td>0.143282</td>\n      <td>1.342932</td>\n    </tr>\n    <tr>\n      <th>44</th>\n      <td>zn_mg_0</td>\n      <td>0</td>\n      <td>10</td>\n      <td>0</td>\n      <td>0.000000</td>\n      <td>0.000</td>\n      <td>0.000</td>\n      <td>0.000</td>\n      <td>0.000000</td>\n      <td>NaN</td>\n    </tr>\n    <tr>\n      <th>45</th>\n      <td>xy_6</td>\n      <td>6</td>\n      <td>10</td>\n      <td>1339101</td>\n      <td>4.142041</td>\n      <td>0.155</td>\n      <td>NaN</td>\n      <td>6.714</td>\n      <td>0.248274</td>\n      <td>NaN</td>\n    </tr>\n    <tr>\n      <th>46</th>\n      <td>xy_12</td>\n      <td>12</td>\n      <td>10</td>\n      <td>1615656</td>\n      <td>5.022790</td>\n      <td>0.612</td>\n      <td>NaN</td>\n      <td>1.988</td>\n      <td>0.199433</td>\n      <td>NaN</td>\n    </tr>\n    <tr>\n      <th>47</th>\n      <td>xy_18</td>\n      <td>18</td>\n      <td>10</td>\n      <td>2044846</td>\n      <td>6.389637</td>\n      <td>0.556</td>\n      <td>NaN</td>\n      <td>1.155</td>\n      <td>0.186866</td>\n      <td>NaN</td>\n    </tr>\n    <tr>\n      <th>48</th>\n      <td>xy_24</td>\n      <td>24</td>\n      <td>10</td>\n      <td>2031912</td>\n      <td>6.348446</td>\n      <td>0.549</td>\n      <td>NaN</td>\n      <td>1.075</td>\n      <td>0.188944</td>\n      <td>NaN</td>\n    </tr>\n    <tr>\n      <th>49</th>\n      <td>xy_36</td>\n      <td>36</td>\n      <td>10</td>\n      <td>2310798</td>\n      <td>7.236618</td>\n      <td>0.597</td>\n      <td>NaN</td>\n      <td>1.004</td>\n      <td>0.177831</td>\n      <td>NaN</td>\n    </tr>\n    <tr>\n      <th>50</th>\n      <td>xy_42</td>\n      <td>42</td>\n      <td>10</td>\n      <td>2245199</td>\n      <td>7.027704</td>\n      <td>0.618</td>\n      <td>NaN</td>\n      <td>1.007</td>\n      <td>0.198843</td>\n      <td>NaN</td>\n    </tr>\n    <tr>\n      <th>51</th>\n      <td>xy_48</td>\n      <td>48</td>\n      <td>10</td>\n      <td>2068737</td>\n      <td>6.465723</td>\n      <td>0.636</td>\n      <td>NaN</td>\n      <td>1.015</td>\n      <td>0.191909</td>\n      <td>NaN</td>\n    </tr>\n    <tr>\n      <th>52</th>\n      <td>xy_60</td>\n      <td>60</td>\n      <td>10</td>\n      <td>1753463</td>\n      <td>5.461666</td>\n      <td>0.692</td>\n      <td>NaN</td>\n      <td>1.066</td>\n      <td>0.188126</td>\n      <td>NaN</td>\n    </tr>\n    <tr>\n      <th>53</th>\n      <td>xy_66</td>\n      <td>66</td>\n      <td>10</td>\n      <td>1531846</td>\n      <td>4.755879</td>\n      <td>0.753</td>\n      <td>NaN</td>\n      <td>1.393</td>\n      <td>0.194629</td>\n      <td>NaN</td>\n    </tr>\n    <tr>\n      <th>54</th>\n      <td>xy_72</td>\n      <td>72</td>\n      <td>10</td>\n      <td>892775</td>\n      <td>2.720621</td>\n      <td>0.758</td>\n      <td>NaN</td>\n      <td>1.025</td>\n      <td>0.170041</td>\n      <td>NaN</td>\n    </tr>\n  </tbody>\n</table>\n</div>"
     },
     "metadata": {},
     "execution_count": 14
    }
   ],
   "source": [
    "df"
   ]
  },
  {
   "cell_type": "code",
   "execution_count": null,
   "metadata": {},
   "outputs": [],
   "source": []
  }
 ]
}