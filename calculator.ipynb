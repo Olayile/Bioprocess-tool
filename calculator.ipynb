{
 "metadata": {
  "language_info": {
   "codemirror_mode": {
    "name": "ipython",
    "version": 3
   },
   "file_extension": ".py",
   "mimetype": "text/x-python",
   "name": "python",
   "nbconvert_exporter": "python",
   "pygments_lexer": "ipython3",
   "version": "3.7.4-final"
  },
  "orig_nbformat": 2,
  "kernelspec": {
   "name": "python3",
   "display_name": "Python 3",
   "language": "python"
  }
 },
 "nbformat": 4,
 "nbformat_minor": 2,
 "cells": [
  {
   "cell_type": "code",
   "execution_count": 1,
   "metadata": {},
   "outputs": [
    {
     "output_type": "stream",
     "name": "stdout",
     "text": [
      "Name is: John\nAge is: 23\n"
     ]
    }
   ],
   "source": [
    "class Person:\n",
    "    name = 'Adam'\n",
    "    \n",
    "p = Person()\n",
    "\n",
    "# setting attribute name to John\n",
    "setattr(p, 'name', 'John')\n",
    "print('Name is:', p.name)\n",
    "\n",
    "# setting an attribute not present in Person\n",
    "setattr(p, 'age', 23)\n",
    "print('Age is:', p.age)"
   ]
  },
  {
   "cell_type": "code",
   "execution_count": 7,
   "metadata": {},
   "outputs": [
    {
     "output_type": "error",
     "ename": "NameError",
     "evalue": "name 'df' is not defined",
     "traceback": [
      "\u001b[0;31m---------------------------------------------------------------------------\u001b[0m",
      "\u001b[0;31mNameError\u001b[0m                                 Traceback (most recent call last)",
      "\u001b[0;32m<ipython-input-7-33e068a5a2ca>\u001b[0m in \u001b[0;36m<module>\u001b[0;34m\u001b[0m\n\u001b[1;32m      3\u001b[0m \u001b[0;32mimport\u001b[0m \u001b[0mpandas\u001b[0m \u001b[0;32mas\u001b[0m \u001b[0mpd\u001b[0m\u001b[0;34m\u001b[0m\u001b[0;34m\u001b[0m\u001b[0m\n\u001b[1;32m      4\u001b[0m \u001b[0;34m\u001b[0m\u001b[0m\n\u001b[0;32m----> 5\u001b[0;31m \u001b[0mxdata\u001b[0m \u001b[0;34m=\u001b[0m \u001b[0mdf\u001b[0m\u001b[0;34m[\u001b[0m\u001b[0;34m'Area'\u001b[0m\u001b[0;34m]\u001b[0m\u001b[0;34m.\u001b[0m\u001b[0mastype\u001b[0m\u001b[0;34m(\u001b[0m\u001b[0mfloat\u001b[0m\u001b[0;34m)\u001b[0m\u001b[0;34m\u001b[0m\u001b[0;34m\u001b[0m\u001b[0m\n\u001b[0m\u001b[1;32m      6\u001b[0m \u001b[0mtdata\u001b[0m \u001b[0;34m=\u001b[0m \u001b[0mdf\u001b[0m\u001b[0;34m[\u001b[0m\u001b[0;34m'Time (hr)'\u001b[0m\u001b[0;34m]\u001b[0m\u001b[0;34m.\u001b[0m\u001b[0mastype\u001b[0m\u001b[0;34m(\u001b[0m\u001b[0mfloat\u001b[0m\u001b[0;34m)\u001b[0m\u001b[0;34m\u001b[0m\u001b[0;34m\u001b[0m\u001b[0m\n\u001b[1;32m      7\u001b[0m \u001b[0;31m# sdata = df['malic_acid']\u001b[0m\u001b[0;34m\u001b[0m\u001b[0;34m\u001b[0m\u001b[0;34m\u001b[0m\u001b[0m\n",
      "\u001b[0;31mNameError\u001b[0m: name 'df' is not defined"
     ]
    }
   ],
   "source": [
    "from symfit import variables, Parameter, ODEModel, Fit, D \n",
    "import numpy as np\n",
    "import pandas as pd\n",
    "\n",
    "xdata = df['Area'].astype(float)\n",
    "tdata = df['Time (hr)'].astype(float)\n",
    "# sdata = df['malic_acid']\n",
    "# pdata = df['succinic_acid']\n",
    "\n",
    "\n",
    "Cx, t = variables('Cx,  t')\n",
    "kd = Parameter('kd', 0.1)\n",
    "# alpha = Parameter('alpha', 0.1)\n",
    "# beta = Parameter('beta', 0.1)\n",
    "# kdp = Parameter('kdp, 0.1')\n",
    "\n",
    "\n",
    "model_dict = {\n",
    "    D(Cx, t): 1*Cx - kd*Cx,}\n",
    "    # D(Cs, t): -0.7*Cx/0.5 + mu*Cx/0.5 + 0.7, \n",
    "    # D(Cp, t): alpha*0.7*Cx + beta*Cx - 0.6 * Cp,\n",
    "\n",
    "ode_model = ODEModel(model_dict, initial={ Cx: 0.0,  t: 6.0})\n",
    "fit = Fit(ode_model,  Cx=xdata, t= tdata)\n",
    "\n",
    "\n"
   ]
  },
  {
   "cell_type": "code",
   "execution_count": 9,
   "metadata": {},
   "outputs": [],
   "source": [
    "df = pd.read_csv('/Users/olayile/Bioprocess-tool/PhD results 37deg A.succinogen 21_12_2020-24_12_2020 - Complete.csv')\n"
   ]
  },
  {
   "cell_type": "code",
   "execution_count": 10,
   "metadata": {},
   "outputs": [
    {
     "output_type": "execute_result",
     "data": {
      "text/plain": [
       "         ID  Time (hr)  Solid Loading     Area  succinic_acid  lactic_acid  \\\n",
       "0    zn_5_0          0              5        0       0.000000        0.000   \n",
       "1    zn_5_6          6              5  1085946       3.335815        0.246   \n",
       "2   zn_5_12         12              5   855741       2.602678        0.237   \n",
       "3   zn_5_18         18              5  2476429       7.764105          NaN   \n",
       "4   zn_5_24         24              5  2586266       8.113904          NaN   \n",
       "5   zn_5_36         36              5  2751715       8.640812          NaN   \n",
       "6   zn_5_42         42              5  2789671       8.761691          NaN   \n",
       "7   zn_5_48         48              5  2808018       8.820121          NaN   \n",
       "8   zn_5_60         60              5  2751526       8.640210          NaN   \n",
       "9   zn_5_66         66              5  2783258       8.741268          NaN   \n",
       "10  zn_5_72         72              5  2696743       8.465742          NaN   \n",
       "\n",
       "    formic_acid  acetic_acid  malic_acid  citric_acid  \n",
       "0         0.000        0.000    0.000000          NaN  \n",
       "1         0.270        1.173    0.407120          NaN  \n",
       "2         0.279        1.172    0.429311          NaN  \n",
       "3         0.271        1.170    0.406348          NaN  \n",
       "4         0.269        1.153    0.408973          NaN  \n",
       "5         0.299        1.192    0.424266          NaN  \n",
       "6         0.297        1.183    0.412398          NaN  \n",
       "7         0.306        1.195    0.417058          NaN  \n",
       "8         0.288        1.161    0.411270          NaN  \n",
       "9         0.295        1.175    0.412315          NaN  \n",
       "10        0.301        1.186    0.418833          NaN  "
      ],
      "text/html": "<div>\n<style scoped>\n    .dataframe tbody tr th:only-of-type {\n        vertical-align: middle;\n    }\n\n    .dataframe tbody tr th {\n        vertical-align: top;\n    }\n\n    .dataframe thead th {\n        text-align: right;\n    }\n</style>\n<table border=\"1\" class=\"dataframe\">\n  <thead>\n    <tr style=\"text-align: right;\">\n      <th></th>\n      <th>ID</th>\n      <th>Time (hr)</th>\n      <th>Solid Loading</th>\n      <th>Area</th>\n      <th>succinic_acid</th>\n      <th>lactic_acid</th>\n      <th>formic_acid</th>\n      <th>acetic_acid</th>\n      <th>malic_acid</th>\n      <th>citric_acid</th>\n    </tr>\n  </thead>\n  <tbody>\n    <tr>\n      <th>0</th>\n      <td>zn_5_0</td>\n      <td>0</td>\n      <td>5</td>\n      <td>0</td>\n      <td>0.000000</td>\n      <td>0.000</td>\n      <td>0.000</td>\n      <td>0.000</td>\n      <td>0.000000</td>\n      <td>NaN</td>\n    </tr>\n    <tr>\n      <th>1</th>\n      <td>zn_5_6</td>\n      <td>6</td>\n      <td>5</td>\n      <td>1085946</td>\n      <td>3.335815</td>\n      <td>0.246</td>\n      <td>0.270</td>\n      <td>1.173</td>\n      <td>0.407120</td>\n      <td>NaN</td>\n    </tr>\n    <tr>\n      <th>2</th>\n      <td>zn_5_12</td>\n      <td>12</td>\n      <td>5</td>\n      <td>855741</td>\n      <td>2.602678</td>\n      <td>0.237</td>\n      <td>0.279</td>\n      <td>1.172</td>\n      <td>0.429311</td>\n      <td>NaN</td>\n    </tr>\n    <tr>\n      <th>3</th>\n      <td>zn_5_18</td>\n      <td>18</td>\n      <td>5</td>\n      <td>2476429</td>\n      <td>7.764105</td>\n      <td>NaN</td>\n      <td>0.271</td>\n      <td>1.170</td>\n      <td>0.406348</td>\n      <td>NaN</td>\n    </tr>\n    <tr>\n      <th>4</th>\n      <td>zn_5_24</td>\n      <td>24</td>\n      <td>5</td>\n      <td>2586266</td>\n      <td>8.113904</td>\n      <td>NaN</td>\n      <td>0.269</td>\n      <td>1.153</td>\n      <td>0.408973</td>\n      <td>NaN</td>\n    </tr>\n    <tr>\n      <th>5</th>\n      <td>zn_5_36</td>\n      <td>36</td>\n      <td>5</td>\n      <td>2751715</td>\n      <td>8.640812</td>\n      <td>NaN</td>\n      <td>0.299</td>\n      <td>1.192</td>\n      <td>0.424266</td>\n      <td>NaN</td>\n    </tr>\n    <tr>\n      <th>6</th>\n      <td>zn_5_42</td>\n      <td>42</td>\n      <td>5</td>\n      <td>2789671</td>\n      <td>8.761691</td>\n      <td>NaN</td>\n      <td>0.297</td>\n      <td>1.183</td>\n      <td>0.412398</td>\n      <td>NaN</td>\n    </tr>\n    <tr>\n      <th>7</th>\n      <td>zn_5_48</td>\n      <td>48</td>\n      <td>5</td>\n      <td>2808018</td>\n      <td>8.820121</td>\n      <td>NaN</td>\n      <td>0.306</td>\n      <td>1.195</td>\n      <td>0.417058</td>\n      <td>NaN</td>\n    </tr>\n    <tr>\n      <th>8</th>\n      <td>zn_5_60</td>\n      <td>60</td>\n      <td>5</td>\n      <td>2751526</td>\n      <td>8.640210</td>\n      <td>NaN</td>\n      <td>0.288</td>\n      <td>1.161</td>\n      <td>0.411270</td>\n      <td>NaN</td>\n    </tr>\n    <tr>\n      <th>9</th>\n      <td>zn_5_66</td>\n      <td>66</td>\n      <td>5</td>\n      <td>2783258</td>\n      <td>8.741268</td>\n      <td>NaN</td>\n      <td>0.295</td>\n      <td>1.175</td>\n      <td>0.412315</td>\n      <td>NaN</td>\n    </tr>\n    <tr>\n      <th>10</th>\n      <td>zn_5_72</td>\n      <td>72</td>\n      <td>5</td>\n      <td>2696743</td>\n      <td>8.465742</td>\n      <td>NaN</td>\n      <td>0.301</td>\n      <td>1.186</td>\n      <td>0.418833</td>\n      <td>NaN</td>\n    </tr>\n  </tbody>\n</table>\n</div>"
     },
     "metadata": {},
     "execution_count": 10
    }
   ],
   "source": [
    "df = df[df['Solid Loading']==5]\n",
    "df"
   ]
  },
  {
   "cell_type": "code",
   "execution_count": 12,
   "metadata": {},
   "outputs": [
    {
     "output_type": "error",
     "ename": "NameError",
     "evalue": "name 'p0rint' is not defined",
     "traceback": [
      "\u001b[0;31m---------------------------------------------------------------------------\u001b[0m",
      "\u001b[0;31mNameError\u001b[0m                                 Traceback (most recent call last)",
      "\u001b[0;32m<ipython-input-12-478ffedf07cf>\u001b[0m in \u001b[0;36m<module>\u001b[0;34m\u001b[0m\n\u001b[1;32m     19\u001b[0m \u001b[0;34m\u001b[0m\u001b[0m\n\u001b[1;32m     20\u001b[0m \u001b[0mk_fit\u001b[0m\u001b[0;34m,\u001b[0m \u001b[0mkcov\u001b[0m \u001b[0;34m=\u001b[0m \u001b[0mcurve_fit\u001b[0m\u001b[0;34m(\u001b[0m\u001b[0mfitfunc\u001b[0m\u001b[0;34m,\u001b[0m \u001b[0mtdata\u001b[0m\u001b[0;34m,\u001b[0m \u001b[0mxdata\u001b[0m\u001b[0;34m,\u001b[0m \u001b[0mp0\u001b[0m\u001b[0;34m=\u001b[0m\u001b[0;34m(\u001b[0m\u001b[0;36m1\u001b[0m\u001b[0;34m,\u001b[0m\u001b[0;34m)\u001b[0m\u001b[0;34m)\u001b[0m\u001b[0;34m\u001b[0m\u001b[0;34m\u001b[0m\u001b[0m\n\u001b[0;32m---> 21\u001b[0;31m \u001b[0mp0rint\u001b[0m\u001b[0;34m(\u001b[0m\u001b[0mk_fit\u001b[0m\u001b[0;34m)\u001b[0m\u001b[0;34m\u001b[0m\u001b[0;34m\u001b[0m\u001b[0m\n\u001b[0m\u001b[1;32m     22\u001b[0m \u001b[0;34m\u001b[0m\u001b[0m\n\u001b[1;32m     23\u001b[0m \u001b[0mtfit\u001b[0m \u001b[0;34m=\u001b[0m \u001b[0mtdata\u001b[0m\u001b[0;34m;\u001b[0m\u001b[0;34m\u001b[0m\u001b[0;34m\u001b[0m\u001b[0m\n",
      "\u001b[0;31mNameError\u001b[0m: name 'p0rint' is not defined"
     ]
    }
   ],
   "source": [
    "import numpy as np\n",
    "from scipy.optimize import curve_fit\n",
    "from scipy.integrate import odeint\n",
    "\n",
    "# given data we want to fit\n",
    "xdata = df['succinic_acid'].astype(float)\n",
    "tdata = df['Time (hr)'].astype(float)\n",
    "\n",
    "def ds_dt(Cx, t, mu):\n",
    "        rs= mu*Cx/0.6 + 0.1*Cx/0.9 + 0.7\n",
    "        return rs\n",
    "\n",
    "def fitfunc(t, mu):\n",
    "    'Function that returns Ca computed from an ODE for a k'\n",
    "\n",
    "    Ca0 = 0\n",
    "    Casol = odeint(ds_dt, Ca0, t, args=(mu,))\n",
    "    return Casol[:,0]\n",
    "\n",
    "k_fit, kcov = curve_fit(fitfunc, tdata, xdata, p0=(1,))\n",
    "p0rint(k_fit)\n",
    "\n",
    "tfit = tdata;\n",
    "fit = fitfunc(tfit, k_fit)\n",
    "\n",
    "import matplotlib.pyplot as plt\n",
    "plt.plot(tdata, xdata, 'ro', label='data')\n",
    "plt.plot(tfit, fit, 'b-', label='fit')\n",
    "plt.legend(loc='best')\n",
    "plt.savefig('images/ode-fit.png')\n",
    "\n",
    "\n",
    "print(\"Mean Squared Error: \", (np.mean(xdata-fit)**2))\n",
    "\n",
    "ss_res = np.dot((xdata - fit),(xdata - fit))\n",
    "ymean = np.mean(xdata)\n",
    "ss_tot = np.dot((xdata-ymean),(xdata-ymean))\n",
    "print(\"R^2 :\",  1-ss_res/ss_tot)"
   ]
  },
  {
   "source": [
    "- Another way to integrate but get multiple parameters\n",
    "\n",
    "Testing from (Stack o/f)[https://stackoverflow.com/questions/61011675/curve-fit-parameters-in-multiple-ode-function]"
   ],
   "cell_type": "markdown",
   "metadata": {}
  },
  {
   "cell_type": "code",
   "execution_count": 13,
   "metadata": {},
   "outputs": [
    {
     "output_type": "error",
     "ename": "TypeError",
     "evalue": "ds_dt() takes 2 positional arguments but 3 were given",
     "traceback": [
      "\u001b[0;31m---------------------------------------------------------------------------\u001b[0m",
      "\u001b[0;31mTypeError\u001b[0m                                 Traceback (most recent call last)",
      "\u001b[0;32m<ipython-input-13-19509ff4081f>\u001b[0m in \u001b[0;36m<module>\u001b[0;34m\u001b[0m\n\u001b[1;32m     27\u001b[0m \u001b[0;34m\u001b[0m\u001b[0m\n\u001b[1;32m     28\u001b[0m \u001b[0;34m\u001b[0m\u001b[0m\n\u001b[0;32m---> 29\u001b[0;31m \u001b[0mresult\u001b[0m \u001b[0;34m=\u001b[0m \u001b[0momodel\u001b[0m\u001b[0;34m.\u001b[0m\u001b[0mfit\u001b[0m\u001b[0;34m(\u001b[0m\u001b[0mxdata\u001b[0m\u001b[0;34m,\u001b[0m \u001b[0mparams\u001b[0m\u001b[0;34m,\u001b[0m \u001b[0mt\u001b[0m\u001b[0;34m=\u001b[0m\u001b[0mtdata\u001b[0m\u001b[0;34m,\u001b[0m \u001b[0mCa0\u001b[0m\u001b[0;34m=\u001b[0m \u001b[0mCa0\u001b[0m\u001b[0;34m)\u001b[0m\u001b[0;34m\u001b[0m\u001b[0;34m\u001b[0m\u001b[0m\n\u001b[0m\u001b[1;32m     30\u001b[0m \u001b[0;34m\u001b[0m\u001b[0m\n\u001b[1;32m     31\u001b[0m \u001b[0;34m\u001b[0m\u001b[0m\n",
      "\u001b[0;32m/Library/Frameworks/Python.framework/Versions/3.7/lib/python3.7/site-packages/lmfit/model.py\u001b[0m in \u001b[0;36mfit\u001b[0;34m(self, data, params, weights, method, iter_cb, scale_covar, verbose, fit_kws, nan_policy, calc_covar, max_nfev, **kwargs)\u001b[0m\n\u001b[1;32m   1011\u001b[0m                              \u001b[0mnan_policy\u001b[0m\u001b[0;34m=\u001b[0m\u001b[0mself\u001b[0m\u001b[0;34m.\u001b[0m\u001b[0mnan_policy\u001b[0m\u001b[0;34m,\u001b[0m \u001b[0mcalc_covar\u001b[0m\u001b[0;34m=\u001b[0m\u001b[0mcalc_covar\u001b[0m\u001b[0;34m,\u001b[0m\u001b[0;34m\u001b[0m\u001b[0;34m\u001b[0m\u001b[0m\n\u001b[1;32m   1012\u001b[0m                              max_nfev=max_nfev, **fit_kws)\n\u001b[0;32m-> 1013\u001b[0;31m         \u001b[0moutput\u001b[0m\u001b[0;34m.\u001b[0m\u001b[0mfit\u001b[0m\u001b[0;34m(\u001b[0m\u001b[0mdata\u001b[0m\u001b[0;34m=\u001b[0m\u001b[0mdata\u001b[0m\u001b[0;34m,\u001b[0m \u001b[0mweights\u001b[0m\u001b[0;34m=\u001b[0m\u001b[0mweights\u001b[0m\u001b[0;34m)\u001b[0m\u001b[0;34m\u001b[0m\u001b[0;34m\u001b[0m\u001b[0m\n\u001b[0m\u001b[1;32m   1014\u001b[0m         \u001b[0moutput\u001b[0m\u001b[0;34m.\u001b[0m\u001b[0mcomponents\u001b[0m \u001b[0;34m=\u001b[0m \u001b[0mself\u001b[0m\u001b[0;34m.\u001b[0m\u001b[0mcomponents\u001b[0m\u001b[0;34m\u001b[0m\u001b[0;34m\u001b[0m\u001b[0m\n\u001b[1;32m   1015\u001b[0m         \u001b[0;32mreturn\u001b[0m \u001b[0moutput\u001b[0m\u001b[0;34m\u001b[0m\u001b[0;34m\u001b[0m\u001b[0m\n",
      "\u001b[0;32m/Library/Frameworks/Python.framework/Versions/3.7/lib/python3.7/site-packages/lmfit/model.py\u001b[0m in \u001b[0;36mfit\u001b[0;34m(self, data, params, weights, method, nan_policy, **kwargs)\u001b[0m\n\u001b[1;32m   1363\u001b[0m         \u001b[0mself\u001b[0m\u001b[0;34m.\u001b[0m\u001b[0muserargs\u001b[0m \u001b[0;34m=\u001b[0m \u001b[0;34m(\u001b[0m\u001b[0mself\u001b[0m\u001b[0;34m.\u001b[0m\u001b[0mdata\u001b[0m\u001b[0;34m,\u001b[0m \u001b[0mself\u001b[0m\u001b[0;34m.\u001b[0m\u001b[0mweights\u001b[0m\u001b[0;34m)\u001b[0m\u001b[0;34m\u001b[0m\u001b[0;34m\u001b[0m\u001b[0m\n\u001b[1;32m   1364\u001b[0m         \u001b[0mself\u001b[0m\u001b[0;34m.\u001b[0m\u001b[0muserkws\u001b[0m\u001b[0;34m.\u001b[0m\u001b[0mupdate\u001b[0m\u001b[0;34m(\u001b[0m\u001b[0mkwargs\u001b[0m\u001b[0;34m)\u001b[0m\u001b[0;34m\u001b[0m\u001b[0;34m\u001b[0m\u001b[0m\n\u001b[0;32m-> 1365\u001b[0;31m         \u001b[0mself\u001b[0m\u001b[0;34m.\u001b[0m\u001b[0minit_fit\u001b[0m \u001b[0;34m=\u001b[0m \u001b[0mself\u001b[0m\u001b[0;34m.\u001b[0m\u001b[0mmodel\u001b[0m\u001b[0;34m.\u001b[0m\u001b[0meval\u001b[0m\u001b[0;34m(\u001b[0m\u001b[0mparams\u001b[0m\u001b[0;34m=\u001b[0m\u001b[0mself\u001b[0m\u001b[0;34m.\u001b[0m\u001b[0mparams\u001b[0m\u001b[0;34m,\u001b[0m \u001b[0;34m**\u001b[0m\u001b[0mself\u001b[0m\u001b[0;34m.\u001b[0m\u001b[0muserkws\u001b[0m\u001b[0;34m)\u001b[0m\u001b[0;34m\u001b[0m\u001b[0;34m\u001b[0m\u001b[0m\n\u001b[0m\u001b[1;32m   1366\u001b[0m         \u001b[0m_ret\u001b[0m \u001b[0;34m=\u001b[0m \u001b[0mself\u001b[0m\u001b[0;34m.\u001b[0m\u001b[0mminimize\u001b[0m\u001b[0;34m(\u001b[0m\u001b[0mmethod\u001b[0m\u001b[0;34m=\u001b[0m\u001b[0mself\u001b[0m\u001b[0;34m.\u001b[0m\u001b[0mmethod\u001b[0m\u001b[0;34m)\u001b[0m\u001b[0;34m\u001b[0m\u001b[0;34m\u001b[0m\u001b[0m\n\u001b[1;32m   1367\u001b[0m \u001b[0;34m\u001b[0m\u001b[0m\n",
      "\u001b[0;32m/Library/Frameworks/Python.framework/Versions/3.7/lib/python3.7/site-packages/lmfit/model.py\u001b[0m in \u001b[0;36meval\u001b[0;34m(self, params, **kwargs)\u001b[0m\n\u001b[1;32m    834\u001b[0m \u001b[0;34m\u001b[0m\u001b[0m\n\u001b[1;32m    835\u001b[0m         \"\"\"\n\u001b[0;32m--> 836\u001b[0;31m         \u001b[0;32mreturn\u001b[0m \u001b[0mself\u001b[0m\u001b[0;34m.\u001b[0m\u001b[0mfunc\u001b[0m\u001b[0;34m(\u001b[0m\u001b[0;34m**\u001b[0m\u001b[0mself\u001b[0m\u001b[0;34m.\u001b[0m\u001b[0mmake_funcargs\u001b[0m\u001b[0;34m(\u001b[0m\u001b[0mparams\u001b[0m\u001b[0;34m,\u001b[0m \u001b[0mkwargs\u001b[0m\u001b[0;34m)\u001b[0m\u001b[0;34m)\u001b[0m\u001b[0;34m\u001b[0m\u001b[0;34m\u001b[0m\u001b[0m\n\u001b[0m\u001b[1;32m    837\u001b[0m \u001b[0;34m\u001b[0m\u001b[0m\n\u001b[1;32m    838\u001b[0m     \u001b[0;34m@\u001b[0m\u001b[0mproperty\u001b[0m\u001b[0;34m\u001b[0m\u001b[0;34m\u001b[0m\u001b[0m\n",
      "\u001b[0;32m<ipython-input-13-19509ff4081f>\u001b[0m in \u001b[0;36mfitfunc\u001b[0;34m(t, mu, Ca0)\u001b[0m\n\u001b[1;32m     14\u001b[0m \u001b[0;34m\u001b[0m\u001b[0m\n\u001b[1;32m     15\u001b[0m \u001b[0;34m\u001b[0m\u001b[0m\n\u001b[0;32m---> 16\u001b[0;31m     \u001b[0;32mreturn\u001b[0m \u001b[0modeint\u001b[0m\u001b[0;34m(\u001b[0m\u001b[0mds_dt\u001b[0m\u001b[0;34m,\u001b[0m \u001b[0mCa0\u001b[0m\u001b[0;34m,\u001b[0m \u001b[0mt\u001b[0m\u001b[0;34m,\u001b[0m \u001b[0margs\u001b[0m\u001b[0;34m=\u001b[0m\u001b[0;34m(\u001b[0m\u001b[0mmu\u001b[0m\u001b[0;34m,\u001b[0m\u001b[0;34m)\u001b[0m\u001b[0;34m)\u001b[0m\u001b[0;34m\u001b[0m\u001b[0;34m\u001b[0m\u001b[0m\n\u001b[0m\u001b[1;32m     17\u001b[0m \u001b[0;34m\u001b[0m\u001b[0m\n\u001b[1;32m     18\u001b[0m \u001b[0;31m# given data we want to fit\u001b[0m\u001b[0;34m\u001b[0m\u001b[0;34m\u001b[0m\u001b[0;34m\u001b[0m\u001b[0m\n",
      "\u001b[0;32m/Library/Frameworks/Python.framework/Versions/3.7/lib/python3.7/site-packages/scipy/integrate/odepack.py\u001b[0m in \u001b[0;36modeint\u001b[0;34m(func, y0, t, args, Dfun, col_deriv, full_output, ml, mu, rtol, atol, tcrit, h0, hmax, hmin, ixpr, mxstep, mxhnil, mxordn, mxords, printmessg, tfirst)\u001b[0m\n\u001b[1;32m    243\u001b[0m                              \u001b[0mfull_output\u001b[0m\u001b[0;34m,\u001b[0m \u001b[0mrtol\u001b[0m\u001b[0;34m,\u001b[0m \u001b[0matol\u001b[0m\u001b[0;34m,\u001b[0m \u001b[0mtcrit\u001b[0m\u001b[0;34m,\u001b[0m \u001b[0mh0\u001b[0m\u001b[0;34m,\u001b[0m \u001b[0mhmax\u001b[0m\u001b[0;34m,\u001b[0m \u001b[0mhmin\u001b[0m\u001b[0;34m,\u001b[0m\u001b[0;34m\u001b[0m\u001b[0;34m\u001b[0m\u001b[0m\n\u001b[1;32m    244\u001b[0m                              \u001b[0mixpr\u001b[0m\u001b[0;34m,\u001b[0m \u001b[0mmxstep\u001b[0m\u001b[0;34m,\u001b[0m \u001b[0mmxhnil\u001b[0m\u001b[0;34m,\u001b[0m \u001b[0mmxordn\u001b[0m\u001b[0;34m,\u001b[0m \u001b[0mmxords\u001b[0m\u001b[0;34m,\u001b[0m\u001b[0;34m\u001b[0m\u001b[0;34m\u001b[0m\u001b[0m\n\u001b[0;32m--> 245\u001b[0;31m                              int(bool(tfirst)))\n\u001b[0m\u001b[1;32m    246\u001b[0m     \u001b[0;32mif\u001b[0m \u001b[0moutput\u001b[0m\u001b[0;34m[\u001b[0m\u001b[0;34m-\u001b[0m\u001b[0;36m1\u001b[0m\u001b[0;34m]\u001b[0m \u001b[0;34m<\u001b[0m \u001b[0;36m0\u001b[0m\u001b[0;34m:\u001b[0m\u001b[0;34m\u001b[0m\u001b[0;34m\u001b[0m\u001b[0m\n\u001b[1;32m    247\u001b[0m         \u001b[0mwarning_msg\u001b[0m \u001b[0;34m=\u001b[0m \u001b[0m_msgs\u001b[0m\u001b[0;34m[\u001b[0m\u001b[0moutput\u001b[0m\u001b[0;34m[\u001b[0m\u001b[0;34m-\u001b[0m\u001b[0;36m1\u001b[0m\u001b[0;34m]\u001b[0m\u001b[0;34m]\u001b[0m \u001b[0;34m+\u001b[0m \u001b[0;34m\" Run with full_output = 1 to get quantitative information.\"\u001b[0m\u001b[0;34m\u001b[0m\u001b[0;34m\u001b[0m\u001b[0m\n",
      "\u001b[0;31mTypeError\u001b[0m: ds_dt() takes 2 positional arguments but 3 were given"
     ]
    }
   ],
   "source": [
    "import numpy as np\n",
    "from scipy.integrate import odeint\n",
    "import matplotlib.pyplot as plt\n",
    "from lmfit import Model\n",
    "\n",
    "\n",
    "def ds_dt(Cx, t):\n",
    "        rs= mu*Cx/0.6 + 0.1*Cx/0.9 + 0.7\n",
    "        return rs\n",
    "\n",
    "def fitfunc(t, mu,  Ca0):\n",
    "    'Function that returns Ca computed from an ODE for a k'\n",
    "\n",
    "    \n",
    "     \n",
    "    return odeint(ds_dt, Ca0, t, args=(mu,))\n",
    "\n",
    "# given data we want to fit\n",
    "xdata = df['succinic_acid'].astype(float)\n",
    "tdata = df['Time (hr)'].astype(float)\n",
    "Ca0 = 0\n",
    "\n",
    "omodel = Model(fitfunc, independent_vars=('t', 'Ca0'))\n",
    "\n",
    "\n",
    "params = omodel.make_params(mu=0.5)\n",
    "\n",
    "\n",
    "result = omodel.fit(xdata, params, t=tdata, Ca0= Ca0)\n",
    "\n",
    "\n",
    "print(result.fit_report(min_correl=0.5))\n",
    "\n"
   ]
  },
  {
   "source": [
    "Ethanol couple 3 ODEs om [stack o/f](https://stackoverflow.com/questions/28990936/curve-fitting-to-three-coupled-odes)"
   ],
   "cell_type": "markdown",
   "metadata": {}
  },
  {
   "cell_type": "code",
   "execution_count": 14,
   "metadata": {},
   "outputs": [
    {
     "output_type": "stream",
     "name": "stdout",
     "text": [
      "# Fit using leastsq:\n",
      "[[Fit Statistics]]\n",
      "    # fitting method   = leastsq\n",
      "    # function evals   = 65\n",
      "    # data points      = 101\n",
      "    # variables        = 4\n",
      "    chi-square         = 21.7961792\n",
      "    reduced chi-square = 0.22470288\n",
      "    Akaike info crit   = -146.871969\n",
      "    Bayesian info crit = -136.411487\n",
      "[[Variables]]\n",
      "    offset:  0.96333090 +/- 0.04735921 (4.92%) (init = 2)\n",
      "    omega:   3.98700821 +/- 0.02079710 (0.52%) (init = 3.3)\n",
      "    amp:     1.80253577 +/- 0.19401989 (10.76%) (init = 2.5)\n",
      "    decay:   5.76279825 +/- 1.04073303 (18.06%) (init = 1)\n",
      "[[Correlations]] (unreported correlations are < 0.100)\n",
      "    C(amp, decay) = -0.755\n",
      "\n",
      "\n",
      "# Fit using differential_evolution:\n",
      "[[Fit Statistics]]\n",
      "    # fitting method   = differential_evolution\n",
      "    # function evals   = 1425\n",
      "    # data points      = 101\n",
      "    # variables        = 4\n",
      "    chi-square         = 21.7961792\n",
      "    reduced chi-square = 0.22470288\n",
      "    Akaike info crit   = -146.871969\n",
      "    Bayesian info crit = -136.411487\n",
      "[[Variables]]\n",
      "    offset:  0.96333133 +/- 0.04735903 (4.92%) (init = 2)\n",
      "    omega:   3.98700854 +/- 0.02121810 (0.53%) (init = 3.3)\n",
      "    amp:     1.80252620 +/- 0.19022408 (10.55%) (init = 2.5)\n",
      "    decay:   5.76185666 +/- 1.00452605 (17.43%) (init = 1)\n",
      "[[Correlations]] (unreported correlations are < 0.100)\n",
      "    C(amp, decay) = -0.743\n"
     ]
    },
    {
     "output_type": "display_data",
     "data": {
      "text/plain": "<Figure size 432x288 with 1 Axes>",
      "image/svg+xml": "<?xml version=\"1.0\" encoding=\"utf-8\" standalone=\"no\"?>\n<!DOCTYPE svg PUBLIC \"-//W3C//DTD SVG 1.1//EN\"\n  \"http://www.w3.org/Graphics/SVG/1.1/DTD/svg11.dtd\">\n<!-- Created with matplotlib (https://matplotlib.org/) -->\n<svg height=\"248.518125pt\" version=\"1.1\" viewBox=\"0 0 370.942187 248.518125\" width=\"370.942187pt\" xmlns=\"http://www.w3.org/2000/svg\" xmlns:xlink=\"http://www.w3.org/1999/xlink\">\n <defs>\n  <style type=\"text/css\">\n*{stroke-linecap:butt;stroke-linejoin:round;}\n  </style>\n </defs>\n <g id=\"figure_1\">\n  <g id=\"patch_1\">\n   <path d=\"M 0 248.518125 \nL 370.942187 248.518125 \nL 370.942187 0 \nL 0 0 \nz\n\" style=\"fill:none;\"/>\n  </g>\n  <g id=\"axes_1\">\n   <g id=\"patch_2\">\n    <path d=\"M 28.942188 224.64 \nL 363.742188 224.64 \nL 363.742188 7.2 \nL 28.942188 7.2 \nz\n\" style=\"fill:#ffffff;\"/>\n   </g>\n   <g id=\"matplotlib.axis_1\">\n    <g id=\"xtick_1\">\n     <g id=\"line2d_1\">\n      <defs>\n       <path d=\"M 0 0 \nL 0 3.5 \n\" id=\"mbc1604d4f3\" style=\"stroke:#000000;stroke-width:0.8;\"/>\n      </defs>\n      <g>\n       <use style=\"stroke:#000000;stroke-width:0.8;\" x=\"44.160369\" xlink:href=\"#mbc1604d4f3\" y=\"224.64\"/>\n      </g>\n     </g>\n     <g id=\"text_1\">\n      <!-- 0 -->\n      <defs>\n       <path d=\"M 31.78125 66.40625 \nQ 24.171875 66.40625 20.328125 58.90625 \nQ 16.5 51.421875 16.5 36.375 \nQ 16.5 21.390625 20.328125 13.890625 \nQ 24.171875 6.390625 31.78125 6.390625 \nQ 39.453125 6.390625 43.28125 13.890625 \nQ 47.125 21.390625 47.125 36.375 \nQ 47.125 51.421875 43.28125 58.90625 \nQ 39.453125 66.40625 31.78125 66.40625 \nz\nM 31.78125 74.21875 \nQ 44.046875 74.21875 50.515625 64.515625 \nQ 56.984375 54.828125 56.984375 36.375 \nQ 56.984375 17.96875 50.515625 8.265625 \nQ 44.046875 -1.421875 31.78125 -1.421875 \nQ 19.53125 -1.421875 13.0625 8.265625 \nQ 6.59375 17.96875 6.59375 36.375 \nQ 6.59375 54.828125 13.0625 64.515625 \nQ 19.53125 74.21875 31.78125 74.21875 \nz\n\" id=\"DejaVuSans-48\"/>\n      </defs>\n      <g transform=\"translate(40.979119 239.238438)scale(0.1 -0.1)\">\n       <use xlink:href=\"#DejaVuSans-48\"/>\n      </g>\n     </g>\n    </g>\n    <g id=\"xtick_2\">\n     <g id=\"line2d_2\">\n      <g>\n       <use style=\"stroke:#000000;stroke-width:0.8;\" x=\"105.033097\" xlink:href=\"#mbc1604d4f3\" y=\"224.64\"/>\n      </g>\n     </g>\n     <g id=\"text_2\">\n      <!-- 2 -->\n      <defs>\n       <path d=\"M 19.1875 8.296875 \nL 53.609375 8.296875 \nL 53.609375 0 \nL 7.328125 0 \nL 7.328125 8.296875 \nQ 12.9375 14.109375 22.625 23.890625 \nQ 32.328125 33.6875 34.8125 36.53125 \nQ 39.546875 41.84375 41.421875 45.53125 \nQ 43.3125 49.21875 43.3125 52.78125 \nQ 43.3125 58.59375 39.234375 62.25 \nQ 35.15625 65.921875 28.609375 65.921875 \nQ 23.96875 65.921875 18.8125 64.3125 \nQ 13.671875 62.703125 7.8125 59.421875 \nL 7.8125 69.390625 \nQ 13.765625 71.78125 18.9375 73 \nQ 24.125 74.21875 28.421875 74.21875 \nQ 39.75 74.21875 46.484375 68.546875 \nQ 53.21875 62.890625 53.21875 53.421875 \nQ 53.21875 48.921875 51.53125 44.890625 \nQ 49.859375 40.875 45.40625 35.40625 \nQ 44.1875 33.984375 37.640625 27.21875 \nQ 31.109375 20.453125 19.1875 8.296875 \nz\n\" id=\"DejaVuSans-50\"/>\n      </defs>\n      <g transform=\"translate(101.851847 239.238438)scale(0.1 -0.1)\">\n       <use xlink:href=\"#DejaVuSans-50\"/>\n      </g>\n     </g>\n    </g>\n    <g id=\"xtick_3\">\n     <g id=\"line2d_3\">\n      <g>\n       <use style=\"stroke:#000000;stroke-width:0.8;\" x=\"165.905824\" xlink:href=\"#mbc1604d4f3\" y=\"224.64\"/>\n      </g>\n     </g>\n     <g id=\"text_3\">\n      <!-- 4 -->\n      <defs>\n       <path d=\"M 37.796875 64.3125 \nL 12.890625 25.390625 \nL 37.796875 25.390625 \nz\nM 35.203125 72.90625 \nL 47.609375 72.90625 \nL 47.609375 25.390625 \nL 58.015625 25.390625 \nL 58.015625 17.1875 \nL 47.609375 17.1875 \nL 47.609375 0 \nL 37.796875 0 \nL 37.796875 17.1875 \nL 4.890625 17.1875 \nL 4.890625 26.703125 \nz\n\" id=\"DejaVuSans-52\"/>\n      </defs>\n      <g transform=\"translate(162.724574 239.238438)scale(0.1 -0.1)\">\n       <use xlink:href=\"#DejaVuSans-52\"/>\n      </g>\n     </g>\n    </g>\n    <g id=\"xtick_4\">\n     <g id=\"line2d_4\">\n      <g>\n       <use style=\"stroke:#000000;stroke-width:0.8;\" x=\"226.778551\" xlink:href=\"#mbc1604d4f3\" y=\"224.64\"/>\n      </g>\n     </g>\n     <g id=\"text_4\">\n      <!-- 6 -->\n      <defs>\n       <path d=\"M 33.015625 40.375 \nQ 26.375 40.375 22.484375 35.828125 \nQ 18.609375 31.296875 18.609375 23.390625 \nQ 18.609375 15.53125 22.484375 10.953125 \nQ 26.375 6.390625 33.015625 6.390625 \nQ 39.65625 6.390625 43.53125 10.953125 \nQ 47.40625 15.53125 47.40625 23.390625 \nQ 47.40625 31.296875 43.53125 35.828125 \nQ 39.65625 40.375 33.015625 40.375 \nz\nM 52.59375 71.296875 \nL 52.59375 62.3125 \nQ 48.875 64.0625 45.09375 64.984375 \nQ 41.3125 65.921875 37.59375 65.921875 \nQ 27.828125 65.921875 22.671875 59.328125 \nQ 17.53125 52.734375 16.796875 39.40625 \nQ 19.671875 43.65625 24.015625 45.921875 \nQ 28.375 48.1875 33.59375 48.1875 \nQ 44.578125 48.1875 50.953125 41.515625 \nQ 57.328125 34.859375 57.328125 23.390625 \nQ 57.328125 12.15625 50.6875 5.359375 \nQ 44.046875 -1.421875 33.015625 -1.421875 \nQ 20.359375 -1.421875 13.671875 8.265625 \nQ 6.984375 17.96875 6.984375 36.375 \nQ 6.984375 53.65625 15.1875 63.9375 \nQ 23.390625 74.21875 37.203125 74.21875 \nQ 40.921875 74.21875 44.703125 73.484375 \nQ 48.484375 72.75 52.59375 71.296875 \nz\n\" id=\"DejaVuSans-54\"/>\n      </defs>\n      <g transform=\"translate(223.597301 239.238438)scale(0.1 -0.1)\">\n       <use xlink:href=\"#DejaVuSans-54\"/>\n      </g>\n     </g>\n    </g>\n    <g id=\"xtick_5\">\n     <g id=\"line2d_5\">\n      <g>\n       <use style=\"stroke:#000000;stroke-width:0.8;\" x=\"287.651278\" xlink:href=\"#mbc1604d4f3\" y=\"224.64\"/>\n      </g>\n     </g>\n     <g id=\"text_5\">\n      <!-- 8 -->\n      <defs>\n       <path d=\"M 31.78125 34.625 \nQ 24.75 34.625 20.71875 30.859375 \nQ 16.703125 27.09375 16.703125 20.515625 \nQ 16.703125 13.921875 20.71875 10.15625 \nQ 24.75 6.390625 31.78125 6.390625 \nQ 38.8125 6.390625 42.859375 10.171875 \nQ 46.921875 13.96875 46.921875 20.515625 \nQ 46.921875 27.09375 42.890625 30.859375 \nQ 38.875 34.625 31.78125 34.625 \nz\nM 21.921875 38.8125 \nQ 15.578125 40.375 12.03125 44.71875 \nQ 8.5 49.078125 8.5 55.328125 \nQ 8.5 64.0625 14.71875 69.140625 \nQ 20.953125 74.21875 31.78125 74.21875 \nQ 42.671875 74.21875 48.875 69.140625 \nQ 55.078125 64.0625 55.078125 55.328125 \nQ 55.078125 49.078125 51.53125 44.71875 \nQ 48 40.375 41.703125 38.8125 \nQ 48.828125 37.15625 52.796875 32.3125 \nQ 56.78125 27.484375 56.78125 20.515625 \nQ 56.78125 9.90625 50.3125 4.234375 \nQ 43.84375 -1.421875 31.78125 -1.421875 \nQ 19.734375 -1.421875 13.25 4.234375 \nQ 6.78125 9.90625 6.78125 20.515625 \nQ 6.78125 27.484375 10.78125 32.3125 \nQ 14.796875 37.15625 21.921875 38.8125 \nz\nM 18.3125 54.390625 \nQ 18.3125 48.734375 21.84375 45.5625 \nQ 25.390625 42.390625 31.78125 42.390625 \nQ 38.140625 42.390625 41.71875 45.5625 \nQ 45.3125 48.734375 45.3125 54.390625 \nQ 45.3125 60.0625 41.71875 63.234375 \nQ 38.140625 66.40625 31.78125 66.40625 \nQ 25.390625 66.40625 21.84375 63.234375 \nQ 18.3125 60.0625 18.3125 54.390625 \nz\n\" id=\"DejaVuSans-56\"/>\n      </defs>\n      <g transform=\"translate(284.470028 239.238438)scale(0.1 -0.1)\">\n       <use xlink:href=\"#DejaVuSans-56\"/>\n      </g>\n     </g>\n    </g>\n    <g id=\"xtick_6\">\n     <g id=\"line2d_6\">\n      <g>\n       <use style=\"stroke:#000000;stroke-width:0.8;\" x=\"348.524006\" xlink:href=\"#mbc1604d4f3\" y=\"224.64\"/>\n      </g>\n     </g>\n     <g id=\"text_6\">\n      <!-- 10 -->\n      <defs>\n       <path d=\"M 12.40625 8.296875 \nL 28.515625 8.296875 \nL 28.515625 63.921875 \nL 10.984375 60.40625 \nL 10.984375 69.390625 \nL 28.421875 72.90625 \nL 38.28125 72.90625 \nL 38.28125 8.296875 \nL 54.390625 8.296875 \nL 54.390625 0 \nL 12.40625 0 \nz\n\" id=\"DejaVuSans-49\"/>\n      </defs>\n      <g transform=\"translate(342.161506 239.238438)scale(0.1 -0.1)\">\n       <use xlink:href=\"#DejaVuSans-49\"/>\n       <use x=\"63.623047\" xlink:href=\"#DejaVuSans-48\"/>\n      </g>\n     </g>\n    </g>\n   </g>\n   <g id=\"matplotlib.axis_2\">\n    <g id=\"ytick_1\">\n     <g id=\"line2d_7\">\n      <defs>\n       <path d=\"M 0 0 \nL -3.5 0 \n\" id=\"mf67e6a1dc3\" style=\"stroke:#000000;stroke-width:0.8;\"/>\n      </defs>\n      <g>\n       <use style=\"stroke:#000000;stroke-width:0.8;\" x=\"28.942188\" xlink:href=\"#mf67e6a1dc3\" y=\"220.858078\"/>\n      </g>\n     </g>\n     <g id=\"text_7\">\n      <!-- −1 -->\n      <defs>\n       <path d=\"M 10.59375 35.5 \nL 73.1875 35.5 \nL 73.1875 27.203125 \nL 10.59375 27.203125 \nz\n\" id=\"DejaVuSans-8722\"/>\n      </defs>\n      <g transform=\"translate(7.2 224.657297)scale(0.1 -0.1)\">\n       <use xlink:href=\"#DejaVuSans-8722\"/>\n       <use x=\"83.789062\" xlink:href=\"#DejaVuSans-49\"/>\n      </g>\n     </g>\n    </g>\n    <g id=\"ytick_2\">\n     <g id=\"line2d_8\">\n      <g>\n       <use style=\"stroke:#000000;stroke-width:0.8;\" x=\"28.942188\" xlink:href=\"#mf67e6a1dc3\" y=\"175.510824\"/>\n      </g>\n     </g>\n     <g id=\"text_8\">\n      <!-- 0 -->\n      <g transform=\"translate(15.579688 179.310043)scale(0.1 -0.1)\">\n       <use xlink:href=\"#DejaVuSans-48\"/>\n      </g>\n     </g>\n    </g>\n    <g id=\"ytick_3\">\n     <g id=\"line2d_9\">\n      <g>\n       <use style=\"stroke:#000000;stroke-width:0.8;\" x=\"28.942188\" xlink:href=\"#mf67e6a1dc3\" y=\"130.16357\"/>\n      </g>\n     </g>\n     <g id=\"text_9\">\n      <!-- 1 -->\n      <g transform=\"translate(15.579688 133.962789)scale(0.1 -0.1)\">\n       <use xlink:href=\"#DejaVuSans-49\"/>\n      </g>\n     </g>\n    </g>\n    <g id=\"ytick_4\">\n     <g id=\"line2d_10\">\n      <g>\n       <use style=\"stroke:#000000;stroke-width:0.8;\" x=\"28.942188\" xlink:href=\"#mf67e6a1dc3\" y=\"84.816316\"/>\n      </g>\n     </g>\n     <g id=\"text_10\">\n      <!-- 2 -->\n      <g transform=\"translate(15.579688 88.615535)scale(0.1 -0.1)\">\n       <use xlink:href=\"#DejaVuSans-50\"/>\n      </g>\n     </g>\n    </g>\n    <g id=\"ytick_5\">\n     <g id=\"line2d_11\">\n      <g>\n       <use style=\"stroke:#000000;stroke-width:0.8;\" x=\"28.942188\" xlink:href=\"#mf67e6a1dc3\" y=\"39.469062\"/>\n      </g>\n     </g>\n     <g id=\"text_11\">\n      <!-- 3 -->\n      <defs>\n       <path d=\"M 40.578125 39.3125 \nQ 47.65625 37.796875 51.625 33 \nQ 55.609375 28.21875 55.609375 21.1875 \nQ 55.609375 10.40625 48.1875 4.484375 \nQ 40.765625 -1.421875 27.09375 -1.421875 \nQ 22.515625 -1.421875 17.65625 -0.515625 \nQ 12.796875 0.390625 7.625 2.203125 \nL 7.625 11.71875 \nQ 11.71875 9.328125 16.59375 8.109375 \nQ 21.484375 6.890625 26.8125 6.890625 \nQ 36.078125 6.890625 40.9375 10.546875 \nQ 45.796875 14.203125 45.796875 21.1875 \nQ 45.796875 27.640625 41.28125 31.265625 \nQ 36.765625 34.90625 28.71875 34.90625 \nL 20.21875 34.90625 \nL 20.21875 43.015625 \nL 29.109375 43.015625 \nQ 36.375 43.015625 40.234375 45.921875 \nQ 44.09375 48.828125 44.09375 54.296875 \nQ 44.09375 59.90625 40.109375 62.90625 \nQ 36.140625 65.921875 28.71875 65.921875 \nQ 24.65625 65.921875 20.015625 65.03125 \nQ 15.375 64.15625 9.8125 62.3125 \nL 9.8125 71.09375 \nQ 15.4375 72.65625 20.34375 73.4375 \nQ 25.25 74.21875 29.59375 74.21875 \nQ 40.828125 74.21875 47.359375 69.109375 \nQ 53.90625 64.015625 53.90625 55.328125 \nQ 53.90625 49.265625 50.4375 45.09375 \nQ 46.96875 40.921875 40.578125 39.3125 \nz\n\" id=\"DejaVuSans-51\"/>\n      </defs>\n      <g transform=\"translate(15.579688 43.268281)scale(0.1 -0.1)\">\n       <use xlink:href=\"#DejaVuSans-51\"/>\n      </g>\n     </g>\n    </g>\n   </g>\n   <g id=\"line2d_12\">\n    <defs>\n     <path d=\"M 0 3 \nC 0.795609 3 1.55874 2.683901 2.12132 2.12132 \nC 2.683901 1.55874 3 0.795609 3 0 \nC 3 -0.795609 2.683901 -1.55874 2.12132 -2.12132 \nC 1.55874 -2.683901 0.795609 -3 0 -3 \nC -0.795609 -3 -1.55874 -2.683901 -2.12132 -2.12132 \nC -2.683901 -1.55874 -3 -0.795609 -3 0 \nC -3 0.795609 -2.683901 1.55874 -2.12132 2.12132 \nC -1.55874 2.683901 -0.795609 3 0 3 \nz\n\" id=\"mb6833369aa\" style=\"stroke:#000000;\"/>\n    </defs>\n    <g clip-path=\"url(#p6ea87ce481)\">\n     <use style=\"stroke:#000000;\" x=\"44.160369\" xlink:href=\"#mb6833369aa\" y=\"138.668041\"/>\n     <use style=\"stroke:#000000;\" x=\"47.204006\" xlink:href=\"#mb6833369aa\" y=\"96.693006\"/>\n     <use style=\"stroke:#000000;\" x=\"50.247642\" xlink:href=\"#mb6833369aa\" y=\"111.246144\"/>\n     <use style=\"stroke:#000000;\" x=\"53.291278\" xlink:href=\"#mb6833369aa\" y=\"17.083636\"/>\n     <use style=\"stroke:#000000;\" x=\"56.334915\" xlink:href=\"#mb6833369aa\" y=\"83.075007\"/>\n     <use style=\"stroke:#000000;\" x=\"59.378551\" xlink:href=\"#mb6833369aa\" y=\"72.720101\"/>\n     <use style=\"stroke:#000000;\" x=\"62.422188\" xlink:href=\"#mb6833369aa\" y=\"65.568183\"/>\n     <use style=\"stroke:#000000;\" x=\"65.465824\" xlink:href=\"#mb6833369aa\" y=\"129.162766\"/>\n     <use style=\"stroke:#000000;\" x=\"68.50946\" xlink:href=\"#mb6833369aa\" y=\"156.263854\"/>\n     <use style=\"stroke:#000000;\" x=\"71.553097\" xlink:href=\"#mb6833369aa\" y=\"182.2359\"/>\n     <use style=\"stroke:#000000;\" x=\"74.596733\" xlink:href=\"#mb6833369aa\" y=\"175.106355\"/>\n     <use style=\"stroke:#000000;\" x=\"77.640369\" xlink:href=\"#mb6833369aa\" y=\"152.649618\"/>\n     <use style=\"stroke:#000000;\" x=\"80.684006\" xlink:href=\"#mb6833369aa\" y=\"200.385105\"/>\n     <use style=\"stroke:#000000;\" x=\"83.727642\" xlink:href=\"#mb6833369aa\" y=\"214.756364\"/>\n     <use style=\"stroke:#000000;\" x=\"86.771278\" xlink:href=\"#mb6833369aa\" y=\"162.43385\"/>\n     <use style=\"stroke:#000000;\" x=\"89.814915\" xlink:href=\"#mb6833369aa\" y=\"161.102371\"/>\n     <use style=\"stroke:#000000;\" x=\"92.858551\" xlink:href=\"#mb6833369aa\" y=\"122.878286\"/>\n     <use style=\"stroke:#000000;\" x=\"95.902188\" xlink:href=\"#mb6833369aa\" y=\"74.28936\"/>\n     <use style=\"stroke:#000000;\" x=\"98.945824\" xlink:href=\"#mb6833369aa\" y=\"95.205162\"/>\n     <use style=\"stroke:#000000;\" x=\"101.98946\" xlink:href=\"#mb6833369aa\" y=\"69.946626\"/>\n     <use style=\"stroke:#000000;\" x=\"105.033097\" xlink:href=\"#mb6833369aa\" y=\"87.935084\"/>\n     <use style=\"stroke:#000000;\" x=\"108.076733\" xlink:href=\"#mb6833369aa\" y=\"82.429798\"/>\n     <use style=\"stroke:#000000;\" x=\"111.120369\" xlink:href=\"#mb6833369aa\" y=\"90.762581\"/>\n     <use style=\"stroke:#000000;\" x=\"114.164006\" xlink:href=\"#mb6833369aa\" y=\"137.579527\"/>\n     <use style=\"stroke:#000000;\" x=\"117.207642\" xlink:href=\"#mb6833369aa\" y=\"146.860924\"/>\n     <use style=\"stroke:#000000;\" x=\"120.251278\" xlink:href=\"#mb6833369aa\" y=\"164.909261\"/>\n     <use style=\"stroke:#000000;\" x=\"123.294915\" xlink:href=\"#mb6833369aa\" y=\"187.811922\"/>\n     <use style=\"stroke:#000000;\" x=\"126.338551\" xlink:href=\"#mb6833369aa\" y=\"206.242807\"/>\n     <use style=\"stroke:#000000;\" x=\"129.382188\" xlink:href=\"#mb6833369aa\" y=\"209.892121\"/>\n     <use style=\"stroke:#000000;\" x=\"132.425824\" xlink:href=\"#mb6833369aa\" y=\"175.078828\"/>\n     <use style=\"stroke:#000000;\" x=\"135.46946\" xlink:href=\"#mb6833369aa\" y=\"162.361506\"/>\n     <use style=\"stroke:#000000;\" x=\"138.513097\" xlink:href=\"#mb6833369aa\" y=\"92.709307\"/>\n     <use style=\"stroke:#000000;\" x=\"141.556733\" xlink:href=\"#mb6833369aa\" y=\"168.776696\"/>\n     <use style=\"stroke:#000000;\" x=\"144.600369\" xlink:href=\"#mb6833369aa\" y=\"100.109455\"/>\n     <use style=\"stroke:#000000;\" x=\"147.644006\" xlink:href=\"#mb6833369aa\" y=\"83.127948\"/>\n     <use style=\"stroke:#000000;\" x=\"150.687642\" xlink:href=\"#mb6833369aa\" y=\"57.803984\"/>\n     <use style=\"stroke:#000000;\" x=\"153.731278\" xlink:href=\"#mb6833369aa\" y=\"77.292846\"/>\n     <use style=\"stroke:#000000;\" x=\"156.774915\" xlink:href=\"#mb6833369aa\" y=\"113.281881\"/>\n     <use style=\"stroke:#000000;\" x=\"159.818551\" xlink:href=\"#mb6833369aa\" y=\"109.532879\"/>\n     <use style=\"stroke:#000000;\" x=\"162.862188\" xlink:href=\"#mb6833369aa\" y=\"114.616332\"/>\n     <use style=\"stroke:#000000;\" x=\"165.905824\" xlink:href=\"#mb6833369aa\" y=\"148.293642\"/>\n     <use style=\"stroke:#000000;\" x=\"168.94946\" xlink:href=\"#mb6833369aa\" y=\"139.919101\"/>\n     <use style=\"stroke:#000000;\" x=\"171.993097\" xlink:href=\"#mb6833369aa\" y=\"203.03592\"/>\n     <use style=\"stroke:#000000;\" x=\"175.036733\" xlink:href=\"#mb6833369aa\" y=\"133.096064\"/>\n     <use style=\"stroke:#000000;\" x=\"178.080369\" xlink:href=\"#mb6833369aa\" y=\"135.907882\"/>\n     <use style=\"stroke:#000000;\" x=\"181.124006\" xlink:href=\"#mb6833369aa\" y=\"164.70512\"/>\n     <use style=\"stroke:#000000;\" x=\"184.167642\" xlink:href=\"#mb6833369aa\" y=\"133.395106\"/>\n     <use style=\"stroke:#000000;\" x=\"187.211278\" xlink:href=\"#mb6833369aa\" y=\"130.939608\"/>\n     <use style=\"stroke:#000000;\" x=\"190.254915\" xlink:href=\"#mb6833369aa\" y=\"135.161073\"/>\n     <use style=\"stroke:#000000;\" x=\"193.298551\" xlink:href=\"#mb6833369aa\" y=\"105.160608\"/>\n     <use style=\"stroke:#000000;\" x=\"196.342188\" xlink:href=\"#mb6833369aa\" y=\"79.289745\"/>\n     <use style=\"stroke:#000000;\" x=\"199.385824\" xlink:href=\"#mb6833369aa\" y=\"105.243037\"/>\n     <use style=\"stroke:#000000;\" x=\"202.42946\" xlink:href=\"#mb6833369aa\" y=\"108.05575\"/>\n     <use style=\"stroke:#000000;\" x=\"205.473097\" xlink:href=\"#mb6833369aa\" y=\"109.337389\"/>\n     <use style=\"stroke:#000000;\" x=\"208.516733\" xlink:href=\"#mb6833369aa\" y=\"109.575224\"/>\n     <use style=\"stroke:#000000;\" x=\"211.560369\" xlink:href=\"#mb6833369aa\" y=\"104.343843\"/>\n     <use style=\"stroke:#000000;\" x=\"214.604006\" xlink:href=\"#mb6833369aa\" y=\"154.879386\"/>\n     <use style=\"stroke:#000000;\" x=\"217.647642\" xlink:href=\"#mb6833369aa\" y=\"140.774667\"/>\n     <use style=\"stroke:#000000;\" x=\"220.691278\" xlink:href=\"#mb6833369aa\" y=\"152.342847\"/>\n     <use style=\"stroke:#000000;\" x=\"223.734915\" xlink:href=\"#mb6833369aa\" y=\"195.939223\"/>\n     <use style=\"stroke:#000000;\" x=\"226.778551\" xlink:href=\"#mb6833369aa\" y=\"163.45763\"/>\n     <use style=\"stroke:#000000;\" x=\"229.822188\" xlink:href=\"#mb6833369aa\" y=\"150.774474\"/>\n     <use style=\"stroke:#000000;\" x=\"232.865824\" xlink:href=\"#mb6833369aa\" y=\"139.543772\"/>\n     <use style=\"stroke:#000000;\" x=\"235.90946\" xlink:href=\"#mb6833369aa\" y=\"121.782072\"/>\n     <use style=\"stroke:#000000;\" x=\"238.953097\" xlink:href=\"#mb6833369aa\" y=\"160.440426\"/>\n     <use style=\"stroke:#000000;\" x=\"241.996733\" xlink:href=\"#mb6833369aa\" y=\"110.371406\"/>\n     <use style=\"stroke:#000000;\" x=\"245.040369\" xlink:href=\"#mb6833369aa\" y=\"120.87226\"/>\n     <use style=\"stroke:#000000;\" x=\"248.084006\" xlink:href=\"#mb6833369aa\" y=\"135.899581\"/>\n     <use style=\"stroke:#000000;\" x=\"251.127642\" xlink:href=\"#mb6833369aa\" y=\"98.997164\"/>\n     <use style=\"stroke:#000000;\" x=\"254.171278\" xlink:href=\"#mb6833369aa\" y=\"100.912977\"/>\n     <use style=\"stroke:#000000;\" x=\"257.214915\" xlink:href=\"#mb6833369aa\" y=\"137.435162\"/>\n     <use style=\"stroke:#000000;\" x=\"260.258551\" xlink:href=\"#mb6833369aa\" y=\"115.719809\"/>\n     <use style=\"stroke:#000000;\" x=\"263.302188\" xlink:href=\"#mb6833369aa\" y=\"148.731368\"/>\n     <use style=\"stroke:#000000;\" x=\"266.345824\" xlink:href=\"#mb6833369aa\" y=\"145.636211\"/>\n     <use style=\"stroke:#000000;\" x=\"269.38946\" xlink:href=\"#mb6833369aa\" y=\"172.613034\"/>\n     <use style=\"stroke:#000000;\" x=\"272.433097\" xlink:href=\"#mb6833369aa\" y=\"117.824588\"/>\n     <use style=\"stroke:#000000;\" x=\"275.476733\" xlink:href=\"#mb6833369aa\" y=\"201.292956\"/>\n     <use style=\"stroke:#000000;\" x=\"278.520369\" xlink:href=\"#mb6833369aa\" y=\"143.262399\"/>\n     <use style=\"stroke:#000000;\" x=\"281.564006\" xlink:href=\"#mb6833369aa\" y=\"120.062041\"/>\n     <use style=\"stroke:#000000;\" x=\"284.607642\" xlink:href=\"#mb6833369aa\" y=\"168.23977\"/>\n     <use style=\"stroke:#000000;\" x=\"287.651278\" xlink:href=\"#mb6833369aa\" y=\"123.932808\"/>\n     <use style=\"stroke:#000000;\" x=\"290.694915\" xlink:href=\"#mb6833369aa\" y=\"116.792677\"/>\n     <use style=\"stroke:#000000;\" x=\"293.738551\" xlink:href=\"#mb6833369aa\" y=\"96.047341\"/>\n     <use style=\"stroke:#000000;\" x=\"296.782188\" xlink:href=\"#mb6833369aa\" y=\"87.838365\"/>\n     <use style=\"stroke:#000000;\" x=\"299.825824\" xlink:href=\"#mb6833369aa\" y=\"124.582721\"/>\n     <use style=\"stroke:#000000;\" x=\"302.86946\" xlink:href=\"#mb6833369aa\" y=\"149.650374\"/>\n     <use style=\"stroke:#000000;\" x=\"305.913097\" xlink:href=\"#mb6833369aa\" y=\"99.715807\"/>\n     <use style=\"stroke:#000000;\" x=\"308.956733\" xlink:href=\"#mb6833369aa\" y=\"109.133347\"/>\n     <use style=\"stroke:#000000;\" x=\"312.000369\" xlink:href=\"#mb6833369aa\" y=\"148.940747\"/>\n     <use style=\"stroke:#000000;\" x=\"315.044006\" xlink:href=\"#mb6833369aa\" y=\"136.212501\"/>\n     <use style=\"stroke:#000000;\" x=\"318.087642\" xlink:href=\"#mb6833369aa\" y=\"137.239559\"/>\n     <use style=\"stroke:#000000;\" x=\"321.131278\" xlink:href=\"#mb6833369aa\" y=\"132.763846\"/>\n     <use style=\"stroke:#000000;\" x=\"324.174915\" xlink:href=\"#mb6833369aa\" y=\"137.271429\"/>\n     <use style=\"stroke:#000000;\" x=\"327.218551\" xlink:href=\"#mb6833369aa\" y=\"108.21599\"/>\n     <use style=\"stroke:#000000;\" x=\"330.262188\" xlink:href=\"#mb6833369aa\" y=\"166.998204\"/>\n     <use style=\"stroke:#000000;\" x=\"333.305824\" xlink:href=\"#mb6833369aa\" y=\"104.903986\"/>\n     <use style=\"stroke:#000000;\" x=\"336.34946\" xlink:href=\"#mb6833369aa\" y=\"113.824724\"/>\n     <use style=\"stroke:#000000;\" x=\"339.393097\" xlink:href=\"#mb6833369aa\" y=\"122.973997\"/>\n     <use style=\"stroke:#000000;\" x=\"342.436733\" xlink:href=\"#mb6833369aa\" y=\"93.472295\"/>\n     <use style=\"stroke:#000000;\" x=\"345.480369\" xlink:href=\"#mb6833369aa\" y=\"166.141672\"/>\n     <use style=\"stroke:#000000;\" x=\"348.524006\" xlink:href=\"#mb6833369aa\" y=\"97.315612\"/>\n    </g>\n   </g>\n   <g id=\"line2d_13\">\n    <path clip-path=\"url(#p6ea87ce481)\" d=\"M 44.160369 131.826413 \nL 47.204006 100.639085 \nL 50.247642 75.33291 \nL 53.291278 59.616203 \nL 56.334915 55.589548 \nL 59.378551 63.476175 \nL 62.422188 81.651513 \nL 65.465824 106.957159 \nL 68.50946 135.24106 \nL 71.553097 162.032751 \nL 74.596733 183.244753 \nL 77.640369 195.790876 \nL 80.684006 198.028775 \nL 83.727642 189.964386 \nL 86.771278 173.194788 \nL 89.814915 150.607233 \nL 92.858551 125.88916 \nL 95.902188 102.931319 \nL 98.945824 85.219854 \nL 101.98946 75.311613 \nL 105.033097 74.470905 \nL 108.076733 82.518295 \nL 111.120369 97.907571 \nL 114.164006 118.011194 \nL 117.207642 139.563051 \nL 120.251278 159.184733 \nL 123.294915 173.911213 \nL 126.338551 181.634742 \nL 129.382188 181.401173 \nL 132.425824 173.518003 \nL 135.46946 159.463834 \nL 138.513097 141.620037 \nL 141.556733 122.87212 \nL 144.600369 106.146821 \nL 147.644006 93.958622 \nL 150.687642 88.035414 \nL 153.731278 89.078426 \nL 156.774915 96.688932 \nL 159.818551 109.467357 \nL 162.862188 125.263602 \nL 165.905824 141.534762 \nL 168.94946 155.751311 \nL 171.993097 165.787372 \nL 175.036733 170.235321 \nL 178.080369 168.598716 \nL 181.124006 161.337899 \nL 184.167642 149.766255 \nL 187.211278 135.818241 \nL 190.254915 121.729397 \nL 193.298551 109.68076 \nL 196.342188 101.463832 \nL 199.385824 98.217142 \nL 202.42946 100.272656 \nL 205.473097 107.132008 \nL 208.516733 117.571811 \nL 211.560369 129.85735 \nL 214.604006 142.02798 \nL 217.647642 152.207684 \nL 220.691278 158.891963 \nL 223.734915 161.16756 \nL 226.778551 158.833353 \nL 229.822188 152.407137 \nL 232.865824 143.021117 \nL 235.90946 132.226064 \nL 238.953097 121.737498 \nL 241.996733 113.165083 \nL 245.040369 107.767597 \nL 248.084006 106.270465 \nL 251.127642 108.771903 \nL 254.171278 114.749132 \nL 257.214915 123.160322 \nL 260.258551 132.623214 \nL 263.302188 141.640248 \nL 266.345824 148.833816 \nL 269.38946 153.154962 \nL 272.433097 154.034198 \nL 275.476733 151.453116 \nL 278.520369 145.928434 \nL 281.564006 138.41393 \nL 284.607642 130.138205 \nL 287.651278 122.405535 \nL 290.694915 116.391822 \nL 293.738551 112.967343 \nL 296.782188 112.57274 \nL 299.825824 115.165618 \nL 302.86946 120.243562 \nL 305.913097 126.937444 \nL 308.956733 134.158173 \nL 312.000369 140.772426 \nL 315.044006 145.779221 \nL 318.087642 148.460012 \nL 321.131278 148.480051 \nL 324.174915 145.927002 \nL 327.218551 141.282989 \nL 330.262188 135.336672 \nL 333.305824 129.050973 \nL 336.34946 123.408387 \nL 339.393097 119.258561 \nL 342.436733 117.19158 \nL 345.480369 117.455674 \nL 348.524006 119.930538 \n\" style=\"fill:none;stroke:#ff0000;stroke-linecap:square;stroke-width:2;\"/>\n   </g>\n   <g id=\"line2d_14\">\n    <path clip-path=\"url(#p6ea87ce481)\" d=\"M 44.160369 131.826394 \nL 47.204006 100.639224 \nL 50.247642 75.333171 \nL 53.291278 59.616534 \nL 56.334915 55.589891 \nL 59.378551 63.476476 \nL 62.422188 81.651729 \nL 65.465824 106.957263 \nL 68.50946 135.241045 \nL 71.553097 162.032629 \nL 74.596733 183.244549 \nL 77.640369 195.790624 \nL 80.684006 198.028514 \nL 83.727642 189.964152 \nL 86.771278 173.194609 \nL 89.814915 150.607125 \nL 92.858551 125.889127 \nL 95.902188 102.931355 \nL 98.945824 85.219942 \nL 101.98946 75.311732 \nL 105.033097 74.471033 \nL 108.076733 82.518411 \nL 111.120369 97.907659 \nL 114.164006 118.011243 \nL 117.207642 139.563058 \nL 120.251278 159.184701 \nL 123.294915 173.911151 \nL 126.338551 181.634658 \nL 129.382188 181.401079 \nL 132.425824 173.517908 \nL 135.46946 159.463746 \nL 138.513097 141.619961 \nL 141.556733 122.87206 \nL 144.600369 106.146777 \nL 147.644006 93.958595 \nL 150.687642 88.035402 \nL 153.731278 89.078428 \nL 156.774915 96.688946 \nL 159.818551 109.467381 \nL 162.862188 125.263634 \nL 165.905824 141.534798 \nL 168.94946 155.751346 \nL 171.993097 165.787401 \nL 175.036733 170.235338 \nL 178.080369 168.598715 \nL 181.124006 161.337876 \nL 184.167642 149.766208 \nL 187.211278 135.818172 \nL 190.254915 121.72931 \nL 193.298551 109.680662 \nL 196.342188 101.463734 \nL 199.385824 98.217055 \nL 202.42946 100.27259 \nL 205.473097 107.131973 \nL 208.516733 117.57181 \nL 211.560369 129.857382 \nL 214.604006 142.028041 \nL 217.647642 152.207762 \nL 220.691278 158.892045 \nL 223.734915 161.16763 \nL 226.778551 158.833398 \nL 229.822188 152.407147 \nL 232.865824 143.021085 \nL 235.90946 132.22599 \nL 238.953097 121.73739 \nL 241.996733 113.164952 \nL 245.040369 107.76746 \nL 248.084006 106.270341 \nL 251.127642 108.771807 \nL 254.171278 114.749078 \nL 257.214915 123.160315 \nL 260.258551 132.623253 \nL 263.302188 141.640326 \nL 266.345824 148.833918 \nL 269.38946 153.15507 \nL 272.433097 154.034292 \nL 275.476733 151.453178 \nL 278.520369 145.928452 \nL 281.564006 138.413897 \nL 284.607642 130.138123 \nL 287.651278 122.405412 \nL 290.694915 116.391675 \nL 293.738551 112.967191 \nL 296.782188 112.572604 \nL 299.825824 115.165515 \nL 302.86946 120.243507 \nL 305.913097 126.937441 \nL 308.956733 134.15822 \nL 312.000369 140.772514 \nL 315.044006 145.779332 \nL 318.087642 148.460127 \nL 321.131278 148.480149 \nL 324.174915 145.927064 \nL 327.218551 141.283003 \nL 330.262188 135.336633 \nL 333.305824 129.050883 \nL 336.34946 123.408258 \nL 339.393097 119.25841 \nL 342.436733 117.191427 \nL 345.480369 117.455541 \nL 348.524006 119.930441 \n\" style=\"fill:none;stroke:#0000ff;stroke-dasharray:7.4,3.2;stroke-dashoffset:0;stroke-width:2;\"/>\n   </g>\n   <g id=\"patch_3\">\n    <path d=\"M 28.942188 224.64 \nL 28.942188 7.2 \n\" style=\"fill:none;stroke:#000000;stroke-linecap:square;stroke-linejoin:miter;stroke-width:0.8;\"/>\n   </g>\n   <g id=\"patch_4\">\n    <path d=\"M 363.742188 224.64 \nL 363.742188 7.2 \n\" style=\"fill:none;stroke:#000000;stroke-linecap:square;stroke-linejoin:miter;stroke-width:0.8;\"/>\n   </g>\n   <g id=\"patch_5\">\n    <path d=\"M 28.942188 224.64 \nL 363.742188 224.64 \n\" style=\"fill:none;stroke:#000000;stroke-linecap:square;stroke-linejoin:miter;stroke-width:0.8;\"/>\n   </g>\n   <g id=\"patch_6\">\n    <path d=\"M 28.942188 7.2 \nL 363.742188 7.2 \n\" style=\"fill:none;stroke:#000000;stroke-linecap:square;stroke-linejoin:miter;stroke-width:0.8;\"/>\n   </g>\n   <g id=\"legend_1\">\n    <g id=\"patch_7\">\n     <path d=\"M 35.942188 59.234375 \nL 103.689063 59.234375 \nQ 105.689063 59.234375 105.689063 57.234375 \nL 105.689063 14.2 \nQ 105.689063 12.2 103.689063 12.2 \nL 35.942188 12.2 \nQ 33.942188 12.2 33.942188 14.2 \nL 33.942188 57.234375 \nQ 33.942188 59.234375 35.942188 59.234375 \nz\n\" style=\"fill:#ffffff;opacity:0.8;stroke:#cccccc;stroke-linejoin:miter;\"/>\n    </g>\n    <g id=\"line2d_15\"/>\n    <g id=\"line2d_16\">\n     <g>\n      <use style=\"stroke:#000000;\" x=\"47.942188\" xlink:href=\"#mb6833369aa\" y=\"20.298438\"/>\n     </g>\n    </g>\n    <g id=\"text_12\">\n     <!-- data -->\n     <defs>\n      <path d=\"M 45.40625 46.390625 \nL 45.40625 75.984375 \nL 54.390625 75.984375 \nL 54.390625 0 \nL 45.40625 0 \nL 45.40625 8.203125 \nQ 42.578125 3.328125 38.25 0.953125 \nQ 33.9375 -1.421875 27.875 -1.421875 \nQ 17.96875 -1.421875 11.734375 6.484375 \nQ 5.515625 14.40625 5.515625 27.296875 \nQ 5.515625 40.1875 11.734375 48.09375 \nQ 17.96875 56 27.875 56 \nQ 33.9375 56 38.25 53.625 \nQ 42.578125 51.265625 45.40625 46.390625 \nz\nM 14.796875 27.296875 \nQ 14.796875 17.390625 18.875 11.75 \nQ 22.953125 6.109375 30.078125 6.109375 \nQ 37.203125 6.109375 41.296875 11.75 \nQ 45.40625 17.390625 45.40625 27.296875 \nQ 45.40625 37.203125 41.296875 42.84375 \nQ 37.203125 48.484375 30.078125 48.484375 \nQ 22.953125 48.484375 18.875 42.84375 \nQ 14.796875 37.203125 14.796875 27.296875 \nz\n\" id=\"DejaVuSans-100\"/>\n      <path d=\"M 34.28125 27.484375 \nQ 23.390625 27.484375 19.1875 25 \nQ 14.984375 22.515625 14.984375 16.5 \nQ 14.984375 11.71875 18.140625 8.90625 \nQ 21.296875 6.109375 26.703125 6.109375 \nQ 34.1875 6.109375 38.703125 11.40625 \nQ 43.21875 16.703125 43.21875 25.484375 \nL 43.21875 27.484375 \nz\nM 52.203125 31.203125 \nL 52.203125 0 \nL 43.21875 0 \nL 43.21875 8.296875 \nQ 40.140625 3.328125 35.546875 0.953125 \nQ 30.953125 -1.421875 24.3125 -1.421875 \nQ 15.921875 -1.421875 10.953125 3.296875 \nQ 6 8.015625 6 15.921875 \nQ 6 25.140625 12.171875 29.828125 \nQ 18.359375 34.515625 30.609375 34.515625 \nL 43.21875 34.515625 \nL 43.21875 35.40625 \nQ 43.21875 41.609375 39.140625 45 \nQ 35.0625 48.390625 27.6875 48.390625 \nQ 23 48.390625 18.546875 47.265625 \nQ 14.109375 46.140625 10.015625 43.890625 \nL 10.015625 52.203125 \nQ 14.9375 54.109375 19.578125 55.046875 \nQ 24.21875 56 28.609375 56 \nQ 40.484375 56 46.34375 49.84375 \nQ 52.203125 43.703125 52.203125 31.203125 \nz\n\" id=\"DejaVuSans-97\"/>\n      <path d=\"M 18.3125 70.21875 \nL 18.3125 54.6875 \nL 36.8125 54.6875 \nL 36.8125 47.703125 \nL 18.3125 47.703125 \nL 18.3125 18.015625 \nQ 18.3125 11.328125 20.140625 9.421875 \nQ 21.96875 7.515625 27.59375 7.515625 \nL 36.8125 7.515625 \nL 36.8125 0 \nL 27.59375 0 \nQ 17.1875 0 13.234375 3.875 \nQ 9.28125 7.765625 9.28125 18.015625 \nL 9.28125 47.703125 \nL 2.6875 47.703125 \nL 2.6875 54.6875 \nL 9.28125 54.6875 \nL 9.28125 70.21875 \nz\n\" id=\"DejaVuSans-116\"/>\n     </defs>\n     <g transform=\"translate(65.942188 23.798438)scale(0.1 -0.1)\">\n      <use xlink:href=\"#DejaVuSans-100\"/>\n      <use x=\"63.476562\" xlink:href=\"#DejaVuSans-97\"/>\n      <use x=\"124.755859\" xlink:href=\"#DejaVuSans-116\"/>\n      <use x=\"163.964844\" xlink:href=\"#DejaVuSans-97\"/>\n     </g>\n    </g>\n    <g id=\"line2d_17\">\n     <path d=\"M 37.942188 34.976562 \nL 57.942188 34.976562 \n\" style=\"fill:none;stroke:#ff0000;stroke-linecap:square;stroke-width:2;\"/>\n    </g>\n    <g id=\"line2d_18\"/>\n    <g id=\"text_13\">\n     <!-- leastsq -->\n     <defs>\n      <path d=\"M 9.421875 75.984375 \nL 18.40625 75.984375 \nL 18.40625 0 \nL 9.421875 0 \nz\n\" id=\"DejaVuSans-108\"/>\n      <path d=\"M 56.203125 29.59375 \nL 56.203125 25.203125 \nL 14.890625 25.203125 \nQ 15.484375 15.921875 20.484375 11.0625 \nQ 25.484375 6.203125 34.421875 6.203125 \nQ 39.59375 6.203125 44.453125 7.46875 \nQ 49.3125 8.734375 54.109375 11.28125 \nL 54.109375 2.78125 \nQ 49.265625 0.734375 44.1875 -0.34375 \nQ 39.109375 -1.421875 33.890625 -1.421875 \nQ 20.796875 -1.421875 13.15625 6.1875 \nQ 5.515625 13.8125 5.515625 26.8125 \nQ 5.515625 40.234375 12.765625 48.109375 \nQ 20.015625 56 32.328125 56 \nQ 43.359375 56 49.78125 48.890625 \nQ 56.203125 41.796875 56.203125 29.59375 \nz\nM 47.21875 32.234375 \nQ 47.125 39.59375 43.09375 43.984375 \nQ 39.0625 48.390625 32.421875 48.390625 \nQ 24.90625 48.390625 20.390625 44.140625 \nQ 15.875 39.890625 15.1875 32.171875 \nz\n\" id=\"DejaVuSans-101\"/>\n      <path d=\"M 44.28125 53.078125 \nL 44.28125 44.578125 \nQ 40.484375 46.53125 36.375 47.5 \nQ 32.28125 48.484375 27.875 48.484375 \nQ 21.1875 48.484375 17.84375 46.4375 \nQ 14.5 44.390625 14.5 40.28125 \nQ 14.5 37.15625 16.890625 35.375 \nQ 19.28125 33.59375 26.515625 31.984375 \nL 29.59375 31.296875 \nQ 39.15625 29.25 43.1875 25.515625 \nQ 47.21875 21.78125 47.21875 15.09375 \nQ 47.21875 7.46875 41.1875 3.015625 \nQ 35.15625 -1.421875 24.609375 -1.421875 \nQ 20.21875 -1.421875 15.453125 -0.5625 \nQ 10.6875 0.296875 5.421875 2 \nL 5.421875 11.28125 \nQ 10.40625 8.6875 15.234375 7.390625 \nQ 20.0625 6.109375 24.8125 6.109375 \nQ 31.15625 6.109375 34.5625 8.28125 \nQ 37.984375 10.453125 37.984375 14.40625 \nQ 37.984375 18.0625 35.515625 20.015625 \nQ 33.0625 21.96875 24.703125 23.78125 \nL 21.578125 24.515625 \nQ 13.234375 26.265625 9.515625 29.90625 \nQ 5.8125 33.546875 5.8125 39.890625 \nQ 5.8125 47.609375 11.28125 51.796875 \nQ 16.75 56 26.8125 56 \nQ 31.78125 56 36.171875 55.265625 \nQ 40.578125 54.546875 44.28125 53.078125 \nz\n\" id=\"DejaVuSans-115\"/>\n      <path d=\"M 14.796875 27.296875 \nQ 14.796875 17.390625 18.875 11.75 \nQ 22.953125 6.109375 30.078125 6.109375 \nQ 37.203125 6.109375 41.296875 11.75 \nQ 45.40625 17.390625 45.40625 27.296875 \nQ 45.40625 37.203125 41.296875 42.84375 \nQ 37.203125 48.484375 30.078125 48.484375 \nQ 22.953125 48.484375 18.875 42.84375 \nQ 14.796875 37.203125 14.796875 27.296875 \nz\nM 45.40625 8.203125 \nQ 42.578125 3.328125 38.25 0.953125 \nQ 33.9375 -1.421875 27.875 -1.421875 \nQ 17.96875 -1.421875 11.734375 6.484375 \nQ 5.515625 14.40625 5.515625 27.296875 \nQ 5.515625 40.1875 11.734375 48.09375 \nQ 17.96875 56 27.875 56 \nQ 33.9375 56 38.25 53.625 \nQ 42.578125 51.265625 45.40625 46.390625 \nL 45.40625 54.6875 \nL 54.390625 54.6875 \nL 54.390625 -20.796875 \nL 45.40625 -20.796875 \nz\n\" id=\"DejaVuSans-113\"/>\n     </defs>\n     <g transform=\"translate(65.942188 38.476562)scale(0.1 -0.1)\">\n      <use xlink:href=\"#DejaVuSans-108\"/>\n      <use x=\"27.783203\" xlink:href=\"#DejaVuSans-101\"/>\n      <use x=\"89.306641\" xlink:href=\"#DejaVuSans-97\"/>\n      <use x=\"150.585938\" xlink:href=\"#DejaVuSans-115\"/>\n      <use x=\"202.685547\" xlink:href=\"#DejaVuSans-116\"/>\n      <use x=\"241.894531\" xlink:href=\"#DejaVuSans-115\"/>\n      <use x=\"293.994141\" xlink:href=\"#DejaVuSans-113\"/>\n     </g>\n    </g>\n    <g id=\"line2d_19\">\n     <path d=\"M 37.942188 49.654688 \nL 57.942188 49.654688 \n\" style=\"fill:none;stroke:#0000ff;stroke-dasharray:7.4,3.2;stroke-dashoffset:0;stroke-width:2;\"/>\n    </g>\n    <g id=\"line2d_20\"/>\n    <g id=\"text_14\">\n     <!-- diffev -->\n     <defs>\n      <path d=\"M 9.421875 54.6875 \nL 18.40625 54.6875 \nL 18.40625 0 \nL 9.421875 0 \nz\nM 9.421875 75.984375 \nL 18.40625 75.984375 \nL 18.40625 64.59375 \nL 9.421875 64.59375 \nz\n\" id=\"DejaVuSans-105\"/>\n      <path d=\"M 37.109375 75.984375 \nL 37.109375 68.5 \nL 28.515625 68.5 \nQ 23.6875 68.5 21.796875 66.546875 \nQ 19.921875 64.59375 19.921875 59.515625 \nL 19.921875 54.6875 \nL 34.71875 54.6875 \nL 34.71875 47.703125 \nL 19.921875 47.703125 \nL 19.921875 0 \nL 10.890625 0 \nL 10.890625 47.703125 \nL 2.296875 47.703125 \nL 2.296875 54.6875 \nL 10.890625 54.6875 \nL 10.890625 58.5 \nQ 10.890625 67.625 15.140625 71.796875 \nQ 19.390625 75.984375 28.609375 75.984375 \nz\n\" id=\"DejaVuSans-102\"/>\n      <path d=\"M 2.984375 54.6875 \nL 12.5 54.6875 \nL 29.59375 8.796875 \nL 46.6875 54.6875 \nL 56.203125 54.6875 \nL 35.6875 0 \nL 23.484375 0 \nz\n\" id=\"DejaVuSans-118\"/>\n     </defs>\n     <g transform=\"translate(65.942188 53.154688)scale(0.1 -0.1)\">\n      <use xlink:href=\"#DejaVuSans-100\"/>\n      <use x=\"63.476562\" xlink:href=\"#DejaVuSans-105\"/>\n      <use x=\"91.259766\" xlink:href=\"#DejaVuSans-102\"/>\n      <use x=\"126.464844\" xlink:href=\"#DejaVuSans-102\"/>\n      <use x=\"161.669922\" xlink:href=\"#DejaVuSans-101\"/>\n      <use x=\"223.193359\" xlink:href=\"#DejaVuSans-118\"/>\n     </g>\n    </g>\n   </g>\n  </g>\n </g>\n <defs>\n  <clipPath id=\"p6ea87ce481\">\n   <rect height=\"217.44\" width=\"334.8\" x=\"28.942188\" y=\"7.2\"/>\n  </clipPath>\n </defs>\n</svg>\n",
      "image/png": "[encoded data removed]"
     },
     "metadata": {
      "needs_background": "light"
     }
    }
   ],
   "source": [
    "import matplotlib.pyplot as plt\n",
    "import numpy as np\n",
    "\n",
    "import lmfit\n",
    "\n",
    "np.random.seed(2)\n",
    "x = np.linspace(0, 10, 101)\n",
    "\n",
    "# Setup example\n",
    "decay = 5\n",
    "offset = 1.0\n",
    "amp = 2.0\n",
    "omega = 4.0\n",
    "\n",
    "y = offset + amp*np.sin(omega*x) * np.exp(-x/decay)\n",
    "yn = y + np.random.normal(size=y.size, scale=0.450)\n",
    "\n",
    "\n",
    "def resid(params, x, ydata):\n",
    "    decay = params['decay'].value\n",
    "    offset = params['offset']\n",
    "    omega = params['omega'].value\n",
    "    amp = params['amp'].value\n",
    "\n",
    "    y_model = offset + amp * np.sin(x*omega) * np.exp(-x/decay)\n",
    "    return y_model - ydata\n",
    "\n",
    "\n",
    "params = lmfit.Parameters()\n",
    "params.add('offset', 2.0, min=0, max=10.0)\n",
    "params.add('omega', 3.3, min=0, max=10.0)\n",
    "params.add('amp', 2.5, min=0, max=10.0)\n",
    "params.add('decay', 1.0, min=0, max=10.0)\n",
    "\n",
    "o1 = lmfit.minimize(resid, params, args=(x, yn), method='leastsq')\n",
    "print(\"# Fit using leastsq:\")\n",
    "lmfit.report_fit(o1)\n",
    "\n",
    "o2 = lmfit.minimize(resid, params, args=(x, yn), method='differential_evolution')\n",
    "print(\"\\n\\n# Fit using differential_evolution:\")\n",
    "lmfit.report_fit(o2)\n",
    "\n",
    "plt.plot(x, yn, 'ko', lw=2)\n",
    "plt.plot(x, yn+o1.residual, 'r-', lw=2)\n",
    "plt.plot(x, yn+o2.residual, 'b--', lw=2)\n",
    "plt.legend(['data', 'leastsq', 'diffev'], loc='upper left')\n",
    "plt.show()"
   ]
  },
  {
   "cell_type": "code",
   "execution_count": 12,
   "metadata": {},
   "outputs": [
    {
     "output_type": "stream",
     "name": "stdout",
     "text": [
      "# Fit using leastsq:\n",
      "[[Fit Statistics]]\n",
      "    # fitting method   = leastsq\n",
      "    # function evals   = 306\n",
      "    # data points      = 11\n",
      "    # variables        = 1\n",
      "    chi-square         = 3.4547e+60\n",
      "    reduced chi-square = 3.4547e+59\n",
      "    Akaike info crit   = 1508.96639\n",
      "    Bayesian info crit = 1509.36428\n",
      "[[Variables]]\n",
      "    mu:  1.1102e-15 +/- 0.00117418 (105760874489867.27%) (init = 0.2)\n",
      "\n",
      "\n",
      "# Fit using differential_evolution:\n",
      "[[Fit Statistics]]\n",
      "    # fitting method   = differential_evolution\n",
      "    # function evals   = 2001\n",
      "    # data points      = 8\n",
      "    # variables        = 1\n",
      "    chi-square         = inf\n",
      "    reduced chi-square = inf\n",
      "    Akaike info crit   = inf\n",
      "    Bayesian info crit = inf\n",
      "##  Warning: uncertainties could not be estimated:\n",
      "[[Variables]]\n",
      "    mu:  6.43169584 (init = 0.2)\n"
     ]
    }
   ],
   "source": [
    "import matplotlib.pyplot as plt\n",
    "import numpy as np\n",
    "\n",
    "import lmfit\n",
    "\n",
    "# given data we want to fit\n",
    "xdata = df['succinic_acid'].astype(float)\n",
    "tdata = df['Time (hr)'].astype(float)\n",
    "\n",
    "def ds_dt(Cx, t, mu):\n",
    "        rs= mu*Cx/0.1 + 0.1*Cx/0.1 + 0.1\n",
    "        return rs\n",
    "\n",
    "def fitfunc(t, Cx0, mu):\n",
    "    'Function that returns Ca computed from an ODE for a k'\n",
    "    Casol = odeint(ds_dt, Cx0, t, args=(mu,))\n",
    "    return Casol[:,0]\n",
    "\n",
    "def residual(params, t, data):\n",
    "    mu = params['mu'].value\n",
    "    Cx0 = 0\n",
    "    model = fitfunc(t, Cx0, mu)\n",
    "    return model-data\n",
    "\n",
    "\n",
    "params = lmfit.Parameters()\n",
    "\n",
    "params.add('mu', value=0.2, min=0, max=10)\n",
    "\n",
    "o1 = lmfit.minimize(residual, params, args=(tdata, xdata), method='leastsq', nan_policy='omit')\n",
    "\n",
    "\n",
    "print(\"# Fit using leastsq:\")\n",
    "lmfit.report_fit(o1)\n",
    "\n",
    "\n",
    "#ADDED NAN POLICY BECAUSE A COMPUTED VALUE MAY BE NEGATIVE\n",
    "o2 = lmfit.minimize(residual, params, args=(tdata, xdata), method='differential_evolution', nan_policy='omit')\n",
    "print(\"\\n\\n# Fit using differential_evolution:\")\n",
    "lmfit.report_fit(o2)\n",
    "\n",
    "\n"
   ]
  },
  {
   "cell_type": "code",
   "execution_count": 13,
   "metadata": {},
   "outputs": [],
   "source": [
    "param_dict= []\n",
    "\n",
    "for name, param in o1.params.items():\n",
    "    param_dict.append([name, param.value, param.stderr, param.init_value, param.correl, param.expr, param.max, param.min, param.vary])\n"
   ]
  },
  {
   "cell_type": "code",
   "execution_count": 14,
   "metadata": {},
   "outputs": [
    {
     "output_type": "execute_result",
     "data": {
      "text/plain": [
       "[['mu',\n",
       "  1.1102230246251565e-15,\n",
       "  0.00117418157963142,\n",
       "  0.2,\n",
       "  {},\n",
       "  None,\n",
       "  10,\n",
       "  0,\n",
       "  True]]"
      ]
     },
     "metadata": {},
     "execution_count": 14
    }
   ],
   "source": [
    "param_dict"
   ]
  },
  {
   "cell_type": "code",
   "execution_count": 36,
   "metadata": {},
   "outputs": [
    {
     "output_type": "execute_result",
     "data": {
      "text/plain": [
       "array([[1.37870238e-06]])"
      ]
     },
     "metadata": {},
     "execution_count": 36
    }
   ],
   "source": [
    "o1.chisqr\n",
    "o1.residual\n",
    "o1.var_names\n",
    "o1.covar\n",
    "o1."
   ]
  },
  {
   "source": [
    "# NOTES\n",
    "\n",
    "\n",
    "- The ploblem is from my equation, do the right equations and calculations \n",
    "- why are the mus of lmfit and de fit completely different?\n",
    "\n",
    "- add in correct yields\n",
    "- user can choose proper method \n",
    "- can now use numerous parameters\n",
    "\n",
    "- used ODE in addition to urve fitting\n",
    "- input starting PARAMETERS and other hyperparameters for optimiztion"
   ],
   "cell_type": "markdown",
   "metadata": {}
  },
  {
   "source": [
    "cHECK LMFIT DOCUMENTATION FOR OTHER PARAMETERS TO CHANGE \n",
    "\n",
    "[lmfit](https://lmfit.github.io/lmfit-py/fitting.html)\n",
    "\n",
    "[SCIPY DOCUMENTATION ON DE FOR PARAMETERS TO CHANGE](https://docs.scipy.org/doc/scipy-0.17.0/reference/generated/scipy.optimize.differential_evolution.html)\n",
    "\n"
   ],
   "cell_type": "markdown",
   "metadata": {}
  },
  {
   "cell_type": "code",
   "execution_count": 217,
   "metadata": {},
   "outputs": [
    {
     "output_type": "error",
     "ename": "SyntaxError",
     "evalue": "invalid syntax (<ipython-input-217-43f63a4e6ef1>, line 64)",
     "traceback": [
      "\u001b[0;36m  File \u001b[0;32m\"<ipython-input-217-43f63a4e6ef1>\"\u001b[0;36m, line \u001b[0;32m64\u001b[0m\n\u001b[0;31m    def estimation(self.params):\u001b[0m\n\u001b[0m                       ^\u001b[0m\n\u001b[0;31mSyntaxError\u001b[0m\u001b[0;31m:\u001b[0m invalid syntax\n"
     ]
    }
   ],
   "source": [
    "import substrate_models\n",
    "import lmfit\n",
    "from scipy.integrate import odeint\n",
    "\n",
    "\n",
    "def mu_monod(Cs, umax, Ks):\n",
    "        return (umax*Cs)/(Cs+Ks)\n",
    "\n",
    "def d_solve(x0, t, umax, Ks, Yxp, Ysp, beta):\n",
    "\n",
    "    sol = odeint(d_celldt, x0, t, args=(umax, Ks, Yxp, Ysp, beta))\n",
    "\n",
    "    return sol     \n",
    "    \n",
    "def d_celldt(x, t, *args):\n",
    "    umax, Ks, Yxp, Ysp, beta = args\n",
    "    X, S, P = x \n",
    "\n",
    "    m= mu_monod(S, umax, Ks)\n",
    "    dXdt = m*X\n",
    "    dSdt = - m*X/Yxp\n",
    "    dPdt = - m*X/Ysp+ beta\n",
    "    return dXdt, dSdt, dPdt\n",
    "\n",
    "def residual(params, x0, data, t, umax, Ks, Yxp, Ysp, beta):\n",
    "    model = d_solve(x0, t, umax, Ks, Yxp, Ysp, beta)\n",
    "    resid = data - model\n",
    "    return resid\n",
    "\n",
    "\n",
    "class Bacteria:\n",
    "    '''Class for ODE modelling and parameter optimization'''\n",
    "    def __init__(self, X=None, S= None , P=         None, t=None, cell_growth_type = None):\n",
    "      self.X = X\n",
    "      self.S = S\n",
    "      self.P = P\n",
    "      self.t = t\n",
    "      self.X0 = 0.1\n",
    "      self.S0 = 0.1\n",
    "      self.P0 = 0.1\n",
    "      self.x0 = self.X0, self.S0, self.P0\n",
    "      self.x = self.X, self.S, self.P\n",
    "      \n",
    "\n",
    "    #   if cell_growth_type == 'monod':\n",
    "\n",
    "         \n",
    "    def add_params(self, umax_value= None, umax_min=None, umax_max=None, Ks=None ):\n",
    "        #how can i do this better?\n",
    "        self.params = lmfit.Parameters()\n",
    "        self.params.add('umax', value=umax_value, min=umax_min, max=umax_max)\n",
    "        self.params.add('Ks')\n",
    "        self.params.add('Yxp')\n",
    "        self.params.add('Ysp')\n",
    "        self.params.add('beta')\n",
    " \n",
    "\n",
    "\n",
    "\n",
    "    #     self.data=self.X, self.S, self.P\n",
    "    #     umax = self.params['umax'].value\n",
    "    #     Ks = self.params['Ks'].value\n",
    "    #     Yxp = self.params['Yxp'].value  \n",
    "    #     Ysp = self.params['Ysp'].value \n",
    "    #     beta = self.params['beta'].value\n",
    "    #     model = d_solve(self.x0, self.t, umax, Ks, Yxp, Ysp, beta)\n",
    "    #     self.model=model.transpose()\n",
    "    #     self.resid = self.data - self.model\n",
    "\n",
    "    def estimation(self):\n",
    "        o1 = lmfit.minimize(self.residual, self.params, args=(self.x0, self.x, self.t, self.params['umax'].value, Ks = self.params['Ks'].value, Yxp = self.params['Yxp'].value, Ysp = self.params['Ysp'].value, beta = self.params['beta'].value )method='leastsq',       \n",
    "        nan_policy='omit')\n",
    "\n",
    "\n",
    "    def show(self):\n",
    "        print(self.data)\n",
    "        print(self.model.shape)\n",
    "        print(self.resid)\n",
    "        \n",
    "\n"
   ]
  },
  {
   "cell_type": "code",
   "execution_count": 214,
   "metadata": {},
   "outputs": [],
   "source": [
    "bacteria= Bacteria(X=df['succinic_acid'], S= df['formic_acid'], P= df['acetic_acid'], t= df['Time (hr)'])\n",
    "\n"
   ]
  },
  {
   "cell_type": "code",
   "execution_count": 215,
   "metadata": {},
   "outputs": [],
   "source": [
    "bacteria.add_params()"
   ]
  },
  {
   "source": [
    "bacteria.residual()"
   ],
   "cell_type": "code",
   "metadata": {},
   "execution_count": 216,
   "outputs": [
    {
     "output_type": "error",
     "ename": "TypeError",
     "evalue": "residual() missing 1 required positional argument: 'par'",
     "traceback": [
      "\u001b[0;31m---------------------------------------------------------------------------\u001b[0m",
      "\u001b[0;31mTypeError\u001b[0m                                 Traceback (most recent call last)",
      "\u001b[0;32m<ipython-input-216-bad178aa3a3c>\u001b[0m in \u001b[0;36m<module>\u001b[0;34m\u001b[0m\n\u001b[0;32m----> 1\u001b[0;31m \u001b[0mbacteria\u001b[0m\u001b[0;34m.\u001b[0m\u001b[0mresidual\u001b[0m\u001b[0;34m(\u001b[0m\u001b[0;34m)\u001b[0m\u001b[0;34m\u001b[0m\u001b[0;34m\u001b[0m\u001b[0m\n\u001b[0m",
      "\u001b[0;31mTypeError\u001b[0m: residual() missing 1 required positional argument: 'par'"
     ]
    }
   ]
  },
  {
   "cell_type": "code",
   "execution_count": 212,
   "metadata": {},
   "outputs": [
    {
     "output_type": "error",
     "ename": "TypeError",
     "evalue": "residual() takes 1 positional argument but 2 were given",
     "traceback": [
      "\u001b[0;31m---------------------------------------------------------------------------\u001b[0m",
      "\u001b[0;31mTypeError\u001b[0m                                 Traceback (most recent call last)",
      "\u001b[0;32m<ipython-input-212-3f6e8908f061>\u001b[0m in \u001b[0;36m<module>\u001b[0;34m\u001b[0m\n\u001b[0;32m----> 1\u001b[0;31m \u001b[0mbacteria\u001b[0m\u001b[0;34m.\u001b[0m\u001b[0mestimation\u001b[0m\u001b[0;34m(\u001b[0m\u001b[0;34m)\u001b[0m\u001b[0;34m\u001b[0m\u001b[0;34m\u001b[0m\u001b[0m\n\u001b[0m",
      "\u001b[0;32m<ipython-input-208-4a2e99d3a1a3>\u001b[0m in \u001b[0;36mestimation\u001b[0;34m(self)\u001b[0m\n\u001b[1;32m     63\u001b[0m     \u001b[0;32mdef\u001b[0m \u001b[0mestimation\u001b[0m\u001b[0;34m(\u001b[0m\u001b[0mself\u001b[0m\u001b[0;34m)\u001b[0m\u001b[0;34m:\u001b[0m\u001b[0;34m\u001b[0m\u001b[0;34m\u001b[0m\u001b[0m\n\u001b[1;32m     64\u001b[0m         o1 = lmfit.minimize(self.residual, self.params, method='leastsq',       \n\u001b[0;32m---> 65\u001b[0;31m         nan_policy='omit')\n\u001b[0m\u001b[1;32m     66\u001b[0m \u001b[0;34m\u001b[0m\u001b[0m\n\u001b[1;32m     67\u001b[0m \u001b[0;34m\u001b[0m\u001b[0m\n",
      "\u001b[0;32m/Library/Frameworks/Python.framework/Versions/3.7/lib/python3.7/site-packages/lmfit/minimizer.py\u001b[0m in \u001b[0;36mminimize\u001b[0;34m(fcn, params, method, args, kws, iter_cb, scale_covar, nan_policy, reduce_fcn, calc_covar, max_nfev, **fit_kws)\u001b[0m\n\u001b[1;32m   2503\u001b[0m                        \u001b[0mnan_policy\u001b[0m\u001b[0;34m=\u001b[0m\u001b[0mnan_policy\u001b[0m\u001b[0;34m,\u001b[0m \u001b[0mreduce_fcn\u001b[0m\u001b[0;34m=\u001b[0m\u001b[0mreduce_fcn\u001b[0m\u001b[0;34m,\u001b[0m\u001b[0;34m\u001b[0m\u001b[0;34m\u001b[0m\u001b[0m\n\u001b[1;32m   2504\u001b[0m                        calc_covar=calc_covar, max_nfev=max_nfev, **fit_kws)\n\u001b[0;32m-> 2505\u001b[0;31m     \u001b[0;32mreturn\u001b[0m \u001b[0mfitter\u001b[0m\u001b[0;34m.\u001b[0m\u001b[0mminimize\u001b[0m\u001b[0;34m(\u001b[0m\u001b[0mmethod\u001b[0m\u001b[0;34m=\u001b[0m\u001b[0mmethod\u001b[0m\u001b[0;34m)\u001b[0m\u001b[0;34m\u001b[0m\u001b[0;34m\u001b[0m\u001b[0m\n\u001b[0m",
      "\u001b[0;32m/Library/Frameworks/Python.framework/Versions/3.7/lib/python3.7/site-packages/lmfit/minimizer.py\u001b[0m in \u001b[0;36mminimize\u001b[0;34m(self, method, params, **kws)\u001b[0m\n\u001b[1;32m   2283\u001b[0m                         val.lower().startswith(user_method)):\n\u001b[1;32m   2284\u001b[0m                     \u001b[0mkwargs\u001b[0m\u001b[0;34m[\u001b[0m\u001b[0;34m'method'\u001b[0m\u001b[0;34m]\u001b[0m \u001b[0;34m=\u001b[0m \u001b[0mval\u001b[0m\u001b[0;34m\u001b[0m\u001b[0;34m\u001b[0m\u001b[0m\n\u001b[0;32m-> 2285\u001b[0;31m         \u001b[0;32mreturn\u001b[0m \u001b[0mfunction\u001b[0m\u001b[0;34m(\u001b[0m\u001b[0;34m**\u001b[0m\u001b[0mkwargs\u001b[0m\u001b[0;34m)\u001b[0m\u001b[0;34m\u001b[0m\u001b[0;34m\u001b[0m\u001b[0m\n\u001b[0m\u001b[1;32m   2286\u001b[0m \u001b[0;34m\u001b[0m\u001b[0m\n\u001b[1;32m   2287\u001b[0m \u001b[0;34m\u001b[0m\u001b[0m\n",
      "\u001b[0;32m/Library/Frameworks/Python.framework/Versions/3.7/lib/python3.7/site-packages/lmfit/minimizer.py\u001b[0m in \u001b[0;36mleastsq\u001b[0;34m(self, params, max_nfev, **kws)\u001b[0m\n\u001b[1;32m   1644\u001b[0m         \u001b[0mresult\u001b[0m\u001b[0;34m.\u001b[0m\u001b[0mcall_kws\u001b[0m \u001b[0;34m=\u001b[0m \u001b[0mlskws\u001b[0m\u001b[0;34m\u001b[0m\u001b[0;34m\u001b[0m\u001b[0m\n\u001b[1;32m   1645\u001b[0m         \u001b[0;32mtry\u001b[0m\u001b[0;34m:\u001b[0m\u001b[0;34m\u001b[0m\u001b[0;34m\u001b[0m\u001b[0m\n\u001b[0;32m-> 1646\u001b[0;31m             \u001b[0mlsout\u001b[0m \u001b[0;34m=\u001b[0m \u001b[0mscipy_leastsq\u001b[0m\u001b[0;34m(\u001b[0m\u001b[0mself\u001b[0m\u001b[0;34m.\u001b[0m\u001b[0m__residual\u001b[0m\u001b[0;34m,\u001b[0m \u001b[0mvariables\u001b[0m\u001b[0;34m,\u001b[0m \u001b[0;34m**\u001b[0m\u001b[0mlskws\u001b[0m\u001b[0;34m)\u001b[0m\u001b[0;34m\u001b[0m\u001b[0;34m\u001b[0m\u001b[0m\n\u001b[0m\u001b[1;32m   1647\u001b[0m         \u001b[0;32mexcept\u001b[0m \u001b[0mAbortFitException\u001b[0m\u001b[0;34m:\u001b[0m\u001b[0;34m\u001b[0m\u001b[0;34m\u001b[0m\u001b[0m\n\u001b[1;32m   1648\u001b[0m             \u001b[0;32mpass\u001b[0m\u001b[0;34m\u001b[0m\u001b[0;34m\u001b[0m\u001b[0m\n",
      "\u001b[0;32m/Library/Frameworks/Python.framework/Versions/3.7/lib/python3.7/site-packages/scipy/optimize/minpack.py\u001b[0m in \u001b[0;36mleastsq\u001b[0;34m(func, x0, args, Dfun, full_output, col_deriv, ftol, xtol, gtol, maxfev, epsfcn, factor, diag)\u001b[0m\n\u001b[1;32m    386\u001b[0m     \u001b[0;32mif\u001b[0m \u001b[0;32mnot\u001b[0m \u001b[0misinstance\u001b[0m\u001b[0;34m(\u001b[0m\u001b[0margs\u001b[0m\u001b[0;34m,\u001b[0m \u001b[0mtuple\u001b[0m\u001b[0;34m)\u001b[0m\u001b[0;34m:\u001b[0m\u001b[0;34m\u001b[0m\u001b[0;34m\u001b[0m\u001b[0m\n\u001b[1;32m    387\u001b[0m         \u001b[0margs\u001b[0m \u001b[0;34m=\u001b[0m \u001b[0;34m(\u001b[0m\u001b[0margs\u001b[0m\u001b[0;34m,\u001b[0m\u001b[0;34m)\u001b[0m\u001b[0;34m\u001b[0m\u001b[0;34m\u001b[0m\u001b[0m\n\u001b[0;32m--> 388\u001b[0;31m     \u001b[0mshape\u001b[0m\u001b[0;34m,\u001b[0m \u001b[0mdtype\u001b[0m \u001b[0;34m=\u001b[0m \u001b[0m_check_func\u001b[0m\u001b[0;34m(\u001b[0m\u001b[0;34m'leastsq'\u001b[0m\u001b[0;34m,\u001b[0m \u001b[0;34m'func'\u001b[0m\u001b[0;34m,\u001b[0m \u001b[0mfunc\u001b[0m\u001b[0;34m,\u001b[0m \u001b[0mx0\u001b[0m\u001b[0;34m,\u001b[0m \u001b[0margs\u001b[0m\u001b[0;34m,\u001b[0m \u001b[0mn\u001b[0m\u001b[0;34m)\u001b[0m\u001b[0;34m\u001b[0m\u001b[0;34m\u001b[0m\u001b[0m\n\u001b[0m\u001b[1;32m    389\u001b[0m     \u001b[0mm\u001b[0m \u001b[0;34m=\u001b[0m \u001b[0mshape\u001b[0m\u001b[0;34m[\u001b[0m\u001b[0;36m0\u001b[0m\u001b[0;34m]\u001b[0m\u001b[0;34m\u001b[0m\u001b[0;34m\u001b[0m\u001b[0m\n\u001b[1;32m    390\u001b[0m \u001b[0;34m\u001b[0m\u001b[0m\n",
      "\u001b[0;32m/Library/Frameworks/Python.framework/Versions/3.7/lib/python3.7/site-packages/scipy/optimize/minpack.py\u001b[0m in \u001b[0;36m_check_func\u001b[0;34m(checker, argname, thefunc, x0, args, numinputs, output_shape)\u001b[0m\n\u001b[1;32m     24\u001b[0m def _check_func(checker, argname, thefunc, x0, args, numinputs,\n\u001b[1;32m     25\u001b[0m                 output_shape=None):\n\u001b[0;32m---> 26\u001b[0;31m     \u001b[0mres\u001b[0m \u001b[0;34m=\u001b[0m \u001b[0matleast_1d\u001b[0m\u001b[0;34m(\u001b[0m\u001b[0mthefunc\u001b[0m\u001b[0;34m(\u001b[0m\u001b[0;34m*\u001b[0m\u001b[0;34m(\u001b[0m\u001b[0;34m(\u001b[0m\u001b[0mx0\u001b[0m\u001b[0;34m[\u001b[0m\u001b[0;34m:\u001b[0m\u001b[0mnuminputs\u001b[0m\u001b[0;34m]\u001b[0m\u001b[0;34m,\u001b[0m\u001b[0;34m)\u001b[0m \u001b[0;34m+\u001b[0m \u001b[0margs\u001b[0m\u001b[0;34m)\u001b[0m\u001b[0;34m)\u001b[0m\u001b[0;34m)\u001b[0m\u001b[0;34m\u001b[0m\u001b[0;34m\u001b[0m\u001b[0m\n\u001b[0m\u001b[1;32m     27\u001b[0m     \u001b[0;32mif\u001b[0m \u001b[0;34m(\u001b[0m\u001b[0moutput_shape\u001b[0m \u001b[0;32mis\u001b[0m \u001b[0;32mnot\u001b[0m \u001b[0;32mNone\u001b[0m\u001b[0;34m)\u001b[0m \u001b[0;32mand\u001b[0m \u001b[0;34m(\u001b[0m\u001b[0mshape\u001b[0m\u001b[0;34m(\u001b[0m\u001b[0mres\u001b[0m\u001b[0;34m)\u001b[0m \u001b[0;34m!=\u001b[0m \u001b[0moutput_shape\u001b[0m\u001b[0;34m)\u001b[0m\u001b[0;34m:\u001b[0m\u001b[0;34m\u001b[0m\u001b[0;34m\u001b[0m\u001b[0m\n\u001b[1;32m     28\u001b[0m         \u001b[0;32mif\u001b[0m \u001b[0;34m(\u001b[0m\u001b[0moutput_shape\u001b[0m\u001b[0;34m[\u001b[0m\u001b[0;36m0\u001b[0m\u001b[0;34m]\u001b[0m \u001b[0;34m!=\u001b[0m \u001b[0;36m1\u001b[0m\u001b[0;34m)\u001b[0m\u001b[0;34m:\u001b[0m\u001b[0;34m\u001b[0m\u001b[0;34m\u001b[0m\u001b[0m\n",
      "\u001b[0;32m/Library/Frameworks/Python.framework/Versions/3.7/lib/python3.7/site-packages/lmfit/minimizer.py\u001b[0m in \u001b[0;36m__residual\u001b[0;34m(self, fvars, apply_bounds_transformation)\u001b[0m\n\u001b[1;32m    574\u001b[0m             \u001b[0;32mraise\u001b[0m \u001b[0mAbortFitException\u001b[0m\u001b[0;34m(\u001b[0m\u001b[0;34m\"fit aborted: too many function evaluations (%d).\"\u001b[0m \u001b[0;34m%\u001b[0m \u001b[0mself\u001b[0m\u001b[0;34m.\u001b[0m\u001b[0mmax_nfev\u001b[0m\u001b[0;34m)\u001b[0m\u001b[0;34m\u001b[0m\u001b[0;34m\u001b[0m\u001b[0m\n\u001b[1;32m    575\u001b[0m \u001b[0;34m\u001b[0m\u001b[0m\n\u001b[0;32m--> 576\u001b[0;31m         \u001b[0mout\u001b[0m \u001b[0;34m=\u001b[0m \u001b[0mself\u001b[0m\u001b[0;34m.\u001b[0m\u001b[0muserfcn\u001b[0m\u001b[0;34m(\u001b[0m\u001b[0mparams\u001b[0m\u001b[0;34m,\u001b[0m \u001b[0;34m*\u001b[0m\u001b[0mself\u001b[0m\u001b[0;34m.\u001b[0m\u001b[0muserargs\u001b[0m\u001b[0;34m,\u001b[0m \u001b[0;34m**\u001b[0m\u001b[0mself\u001b[0m\u001b[0;34m.\u001b[0m\u001b[0muserkws\u001b[0m\u001b[0;34m)\u001b[0m\u001b[0;34m\u001b[0m\u001b[0;34m\u001b[0m\u001b[0m\n\u001b[0m\u001b[1;32m    577\u001b[0m \u001b[0;34m\u001b[0m\u001b[0m\n\u001b[1;32m    578\u001b[0m         \u001b[0;32mif\u001b[0m \u001b[0mcallable\u001b[0m\u001b[0;34m(\u001b[0m\u001b[0mself\u001b[0m\u001b[0;34m.\u001b[0m\u001b[0miter_cb\u001b[0m\u001b[0;34m)\u001b[0m\u001b[0;34m:\u001b[0m\u001b[0;34m\u001b[0m\u001b[0;34m\u001b[0m\u001b[0m\n",
      "\u001b[0;31mTypeError\u001b[0m: residual() takes 1 positional argument but 2 were given"
     ]
    }
   ],
   "source": [
    "bacteria.estimation()"
   ]
  },
  {
   "cell_type": "code",
   "execution_count": null,
   "metadata": {},
   "outputs": [],
   "source": []
  }
 ]
}